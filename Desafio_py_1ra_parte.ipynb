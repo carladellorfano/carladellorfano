{
  "nbformat": 4,
  "nbformat_minor": 0,
  "metadata": {
    "colab": {
      "provenance": [],
      "authorship_tag": "ABX9TyMgIon8/fB6vQQD3aeCavjY",
      "include_colab_link": true
    },
    "kernelspec": {
      "name": "python3",
      "display_name": "Python 3"
    },
    "language_info": {
      "name": "python"
    }
  },
  "cells": [
    {
      "cell_type": "markdown",
      "metadata": {
        "id": "view-in-github",
        "colab_type": "text"
      },
      "source": [
        "<a href=\"https://colab.research.google.com/github/carladellorfano/carladellorfano/blob/main/Desafio_py_1ra_parte.ipynb\" target=\"_parent\"><img src=\"https://colab.research.google.com/assets/colab-badge.svg\" alt=\"Open In Colab\"/></a>"
      ]
    },
    {
      "cell_type": "code",
      "source": [
        "from google.colab import drive\n",
        "drive.mount('/content/drive')\n",
        "pathCurso = '/content/drive/MyDrive/AP_UNdeC/Data/'"
      ],
      "metadata": {
        "colab": {
          "base_uri": "https://localhost:8080/"
        },
        "id": "rLvxzUM2aorq",
        "outputId": "672cdf4a-58b4-4fba-898d-2de3ab5da457"
      },
      "execution_count": 15,
      "outputs": [
        {
          "output_type": "stream",
          "name": "stdout",
          "text": [
            "Drive already mounted at /content/drive; to attempt to forcibly remount, call drive.mount(\"/content/drive\", force_remount=True).\n"
          ]
        }
      ]
    },
    {
      "cell_type": "code",
      "source": [
        "import pandas as pd\n",
        "data_location = pathCurso + 'winemag-data-130k-v2.csv'"
      ],
      "metadata": {
        "id": "BSrW2jXdlvWg"
      },
      "execution_count": 38,
      "outputs": []
    },
    {
      "cell_type": "code",
      "source": [
        "pd.DataFrame(data)"
      ],
      "metadata": {
        "colab": {
          "base_uri": "https://localhost:8080/",
          "height": 423
        },
        "id": "-zvv0rgzsOX3",
        "outputId": "0ccd0a09-8bd4-429d-aaf2-210b8ecbdd0b"
      },
      "execution_count": 39,
      "outputs": [
        {
          "output_type": "execute_result",
          "data": {
            "text/plain": [
              "                                                        0\n",
              "0       0,Italy,\"Aromas include tropical fruit, broom,...\n",
              "1       1,Portugal,\"This is ripe and fruity, a wine th...\n",
              "2       2,US,\"Tart and snappy, the flavors of lime fle...\n",
              "3       3,US,\"Pineapple rind, lemon pith and orange bl...\n",
              "4       4,US,\"Much like the regular bottling from 2012...\n",
              "...                                                   ...\n",
              "129970  129966,Germany,\"Notes of honeysuckle and canta...\n",
              "129971  129967,US,\"Citation is given as much as a deca...\n",
              "129972  129968,France,\"Well-drained gravel soil gives ...\n",
              "129973  129969,France,\"A dry style of Pinot Gris, this...\n",
              "129974  129970,France,\"Big, rich and off-dry, this is ...\n",
              "\n",
              "[129975 rows x 1 columns]"
            ],
            "text/html": [
              "\n",
              "  <div id=\"df-72950b05-efaa-4f90-a56f-c2b90e284cc6\" class=\"colab-df-container\">\n",
              "    <div>\n",
              "<style scoped>\n",
              "    .dataframe tbody tr th:only-of-type {\n",
              "        vertical-align: middle;\n",
              "    }\n",
              "\n",
              "    .dataframe tbody tr th {\n",
              "        vertical-align: top;\n",
              "    }\n",
              "\n",
              "    .dataframe thead th {\n",
              "        text-align: right;\n",
              "    }\n",
              "</style>\n",
              "<table border=\"1\" class=\"dataframe\">\n",
              "  <thead>\n",
              "    <tr style=\"text-align: right;\">\n",
              "      <th></th>\n",
              "      <th>0</th>\n",
              "    </tr>\n",
              "  </thead>\n",
              "  <tbody>\n",
              "    <tr>\n",
              "      <th>0</th>\n",
              "      <td>0,Italy,\"Aromas include tropical fruit, broom,...</td>\n",
              "    </tr>\n",
              "    <tr>\n",
              "      <th>1</th>\n",
              "      <td>1,Portugal,\"This is ripe and fruity, a wine th...</td>\n",
              "    </tr>\n",
              "    <tr>\n",
              "      <th>2</th>\n",
              "      <td>2,US,\"Tart and snappy, the flavors of lime fle...</td>\n",
              "    </tr>\n",
              "    <tr>\n",
              "      <th>3</th>\n",
              "      <td>3,US,\"Pineapple rind, lemon pith and orange bl...</td>\n",
              "    </tr>\n",
              "    <tr>\n",
              "      <th>4</th>\n",
              "      <td>4,US,\"Much like the regular bottling from 2012...</td>\n",
              "    </tr>\n",
              "    <tr>\n",
              "      <th>...</th>\n",
              "      <td>...</td>\n",
              "    </tr>\n",
              "    <tr>\n",
              "      <th>129970</th>\n",
              "      <td>129966,Germany,\"Notes of honeysuckle and canta...</td>\n",
              "    </tr>\n",
              "    <tr>\n",
              "      <th>129971</th>\n",
              "      <td>129967,US,\"Citation is given as much as a deca...</td>\n",
              "    </tr>\n",
              "    <tr>\n",
              "      <th>129972</th>\n",
              "      <td>129968,France,\"Well-drained gravel soil gives ...</td>\n",
              "    </tr>\n",
              "    <tr>\n",
              "      <th>129973</th>\n",
              "      <td>129969,France,\"A dry style of Pinot Gris, this...</td>\n",
              "    </tr>\n",
              "    <tr>\n",
              "      <th>129974</th>\n",
              "      <td>129970,France,\"Big, rich and off-dry, this is ...</td>\n",
              "    </tr>\n",
              "  </tbody>\n",
              "</table>\n",
              "<p>129975 rows × 1 columns</p>\n",
              "</div>\n",
              "    <div class=\"colab-df-buttons\">\n",
              "\n",
              "  <div class=\"colab-df-container\">\n",
              "    <button class=\"colab-df-convert\" onclick=\"convertToInteractive('df-72950b05-efaa-4f90-a56f-c2b90e284cc6')\"\n",
              "            title=\"Convert this dataframe to an interactive table.\"\n",
              "            style=\"display:none;\">\n",
              "\n",
              "  <svg xmlns=\"http://www.w3.org/2000/svg\" height=\"24px\" viewBox=\"0 -960 960 960\">\n",
              "    <path d=\"M120-120v-720h720v720H120Zm60-500h600v-160H180v160Zm220 220h160v-160H400v160Zm0 220h160v-160H400v160ZM180-400h160v-160H180v160Zm440 0h160v-160H620v160ZM180-180h160v-160H180v160Zm440 0h160v-160H620v160Z\"/>\n",
              "  </svg>\n",
              "    </button>\n",
              "\n",
              "  <style>\n",
              "    .colab-df-container {\n",
              "      display:flex;\n",
              "      gap: 12px;\n",
              "    }\n",
              "\n",
              "    .colab-df-convert {\n",
              "      background-color: #E8F0FE;\n",
              "      border: none;\n",
              "      border-radius: 50%;\n",
              "      cursor: pointer;\n",
              "      display: none;\n",
              "      fill: #1967D2;\n",
              "      height: 32px;\n",
              "      padding: 0 0 0 0;\n",
              "      width: 32px;\n",
              "    }\n",
              "\n",
              "    .colab-df-convert:hover {\n",
              "      background-color: #E2EBFA;\n",
              "      box-shadow: 0px 1px 2px rgba(60, 64, 67, 0.3), 0px 1px 3px 1px rgba(60, 64, 67, 0.15);\n",
              "      fill: #174EA6;\n",
              "    }\n",
              "\n",
              "    .colab-df-buttons div {\n",
              "      margin-bottom: 4px;\n",
              "    }\n",
              "\n",
              "    [theme=dark] .colab-df-convert {\n",
              "      background-color: #3B4455;\n",
              "      fill: #D2E3FC;\n",
              "    }\n",
              "\n",
              "    [theme=dark] .colab-df-convert:hover {\n",
              "      background-color: #434B5C;\n",
              "      box-shadow: 0px 1px 3px 1px rgba(0, 0, 0, 0.15);\n",
              "      filter: drop-shadow(0px 1px 2px rgba(0, 0, 0, 0.3));\n",
              "      fill: #FFFFFF;\n",
              "    }\n",
              "  </style>\n",
              "\n",
              "    <script>\n",
              "      const buttonEl =\n",
              "        document.querySelector('#df-72950b05-efaa-4f90-a56f-c2b90e284cc6 button.colab-df-convert');\n",
              "      buttonEl.style.display =\n",
              "        google.colab.kernel.accessAllowed ? 'block' : 'none';\n",
              "\n",
              "      async function convertToInteractive(key) {\n",
              "        const element = document.querySelector('#df-72950b05-efaa-4f90-a56f-c2b90e284cc6');\n",
              "        const dataTable =\n",
              "          await google.colab.kernel.invokeFunction('convertToInteractive',\n",
              "                                                    [key], {});\n",
              "        if (!dataTable) return;\n",
              "\n",
              "        const docLinkHtml = 'Like what you see? Visit the ' +\n",
              "          '<a target=\"_blank\" href=https://colab.research.google.com/notebooks/data_table.ipynb>data table notebook</a>'\n",
              "          + ' to learn more about interactive tables.';\n",
              "        element.innerHTML = '';\n",
              "        dataTable['output_type'] = 'display_data';\n",
              "        await google.colab.output.renderOutput(dataTable, element);\n",
              "        const docLink = document.createElement('div');\n",
              "        docLink.innerHTML = docLinkHtml;\n",
              "        element.appendChild(docLink);\n",
              "      }\n",
              "    </script>\n",
              "  </div>\n",
              "\n",
              "\n",
              "<div id=\"df-bcf1eb08-7819-407b-b1ba-254aa6123fd5\">\n",
              "  <button class=\"colab-df-quickchart\" onclick=\"quickchart('df-bcf1eb08-7819-407b-b1ba-254aa6123fd5')\"\n",
              "            title=\"Suggest charts.\"\n",
              "            style=\"display:none;\">\n",
              "\n",
              "<svg xmlns=\"http://www.w3.org/2000/svg\" height=\"24px\"viewBox=\"0 0 24 24\"\n",
              "     width=\"24px\">\n",
              "    <g>\n",
              "        <path d=\"M19 3H5c-1.1 0-2 .9-2 2v14c0 1.1.9 2 2 2h14c1.1 0 2-.9 2-2V5c0-1.1-.9-2-2-2zM9 17H7v-7h2v7zm4 0h-2V7h2v10zm4 0h-2v-4h2v4z\"/>\n",
              "    </g>\n",
              "</svg>\n",
              "  </button>\n",
              "\n",
              "<style>\n",
              "  .colab-df-quickchart {\n",
              "    background-color: #E8F0FE;\n",
              "    border: none;\n",
              "    border-radius: 50%;\n",
              "    cursor: pointer;\n",
              "    display: none;\n",
              "    fill: #1967D2;\n",
              "    height: 32px;\n",
              "    padding: 0 0 0 0;\n",
              "    width: 32px;\n",
              "  }\n",
              "\n",
              "  .colab-df-quickchart:hover {\n",
              "    background-color: #E2EBFA;\n",
              "    box-shadow: 0px 1px 2px rgba(60, 64, 67, 0.3), 0px 1px 3px 1px rgba(60, 64, 67, 0.15);\n",
              "    fill: #174EA6;\n",
              "  }\n",
              "\n",
              "  [theme=dark] .colab-df-quickchart {\n",
              "    background-color: #3B4455;\n",
              "    fill: #D2E3FC;\n",
              "  }\n",
              "\n",
              "  [theme=dark] .colab-df-quickchart:hover {\n",
              "    background-color: #434B5C;\n",
              "    box-shadow: 0px 1px 3px 1px rgba(0, 0, 0, 0.15);\n",
              "    filter: drop-shadow(0px 1px 2px rgba(0, 0, 0, 0.3));\n",
              "    fill: #FFFFFF;\n",
              "  }\n",
              "</style>\n",
              "\n",
              "  <script>\n",
              "    async function quickchart(key) {\n",
              "      const charts = await google.colab.kernel.invokeFunction(\n",
              "          'suggestCharts', [key], {});\n",
              "    }\n",
              "    (() => {\n",
              "      let quickchartButtonEl =\n",
              "        document.querySelector('#df-bcf1eb08-7819-407b-b1ba-254aa6123fd5 button');\n",
              "      quickchartButtonEl.style.display =\n",
              "        google.colab.kernel.accessAllowed ? 'block' : 'none';\n",
              "    })();\n",
              "  </script>\n",
              "</div>\n",
              "    </div>\n",
              "  </div>\n"
            ]
          },
          "metadata": {},
          "execution_count": 39
        }
      ]
    },
    {
      "cell_type": "code",
      "source": [
        "# Mostrar las primeras filas del DataFrame para explorar los datos\n",
        "print(data.head())"
      ],
      "metadata": {
        "colab": {
          "base_uri": "https://localhost:8080/"
        },
        "id": "ALy-0BLDxaFK",
        "outputId": "daa82f2a-4ce7-4ebe-8fad-671cc7b29767"
      },
      "execution_count": 45,
      "outputs": [
        {
          "output_type": "stream",
          "name": "stdout",
          "text": [
            "   Unnamed: 0   country                                        description  \\\n",
            "0           0     Italy  Aromas include tropical fruit, broom, brimston...   \n",
            "1           1  Portugal  This is ripe and fruity, a wine that is smooth...   \n",
            "2           2        US  Tart and snappy, the flavors of lime flesh and...   \n",
            "3           3        US  Pineapple rind, lemon pith and orange blossom ...   \n",
            "4           4        US  Much like the regular bottling from 2012, this...   \n",
            "\n",
            "                          designation  points  price           province  \\\n",
            "0                        Vulkà Bianco      87    NaN  Sicily & Sardinia   \n",
            "1                            Avidagos      87   15.0              Douro   \n",
            "2                                 NaN      87   14.0             Oregon   \n",
            "3                Reserve Late Harvest      87   13.0           Michigan   \n",
            "4  Vintner's Reserve Wild Child Block      87   65.0             Oregon   \n",
            "\n",
            "              region_1           region_2         taster_name  \\\n",
            "0                 Etna                NaN       Kerin O’Keefe   \n",
            "1                  NaN                NaN          Roger Voss   \n",
            "2    Willamette Valley  Willamette Valley        Paul Gregutt   \n",
            "3  Lake Michigan Shore                NaN  Alexander Peartree   \n",
            "4    Willamette Valley  Willamette Valley        Paul Gregutt   \n",
            "\n",
            "  taster_twitter_handle                                              title  \\\n",
            "0          @kerinokeefe                  Nicosia 2013 Vulkà Bianco  (Etna)   \n",
            "1            @vossroger      Quinta dos Avidagos 2011 Avidagos Red (Douro)   \n",
            "2           @paulgwine       Rainstorm 2013 Pinot Gris (Willamette Valley)   \n",
            "3                   NaN  St. Julian 2013 Reserve Late Harvest Riesling ...   \n",
            "4           @paulgwine   Sweet Cheeks 2012 Vintner's Reserve Wild Child...   \n",
            "\n",
            "          variety               winery  \n",
            "0     White Blend              Nicosia  \n",
            "1  Portuguese Red  Quinta dos Avidagos  \n",
            "2      Pinot Gris            Rainstorm  \n",
            "3        Riesling           St. Julian  \n",
            "4      Pinot Noir         Sweet Cheeks  \n"
          ]
        }
      ]
    },
    {
      "cell_type": "code",
      "source": [
        "# Mostrar estadísticas descriptivas básicas de las columnas numéricas\n",
        "print(data.describe())"
      ],
      "metadata": {
        "colab": {
          "base_uri": "https://localhost:8080/"
        },
        "id": "xDjzX1APxk0d",
        "outputId": "e28ee66c-5c2e-4ccb-f301-e4484c20ba43"
      },
      "execution_count": 47,
      "outputs": [
        {
          "output_type": "stream",
          "name": "stdout",
          "text": [
            "          Unnamed: 0         points          price\n",
            "count  129971.000000  129971.000000  120975.000000\n",
            "mean    64985.000000      88.447138      35.363389\n",
            "std     37519.540256       3.039730      41.022218\n",
            "min         0.000000      80.000000       4.000000\n",
            "25%     32492.500000      86.000000      17.000000\n",
            "50%     64985.000000      88.000000      25.000000\n",
            "75%     97477.500000      91.000000      42.000000\n",
            "max    129970.000000     100.000000    3300.000000\n"
          ]
        }
      ]
    },
    {
      "cell_type": "code",
      "source": [
        "# Mostrar los nombres de las columnas\n",
        "print(data.columns)"
      ],
      "metadata": {
        "colab": {
          "base_uri": "https://localhost:8080/"
        },
        "id": "-OCO8k8WxpU0",
        "outputId": "64e9a51f-93f7-4a90-df4e-36654298899d"
      },
      "execution_count": 49,
      "outputs": [
        {
          "output_type": "stream",
          "name": "stdout",
          "text": [
            "Index(['Unnamed: 0', 'country', 'description', 'designation', 'points',\n",
            "       'price', 'province', 'region_1', 'region_2', 'taster_name',\n",
            "       'taster_twitter_handle', 'title', 'variety', 'winery'],\n",
            "      dtype='object')\n"
          ]
        }
      ]
    },
    {
      "cell_type": "code",
      "source": [
        "# Cargar los datos en un DataFrame de pandas\n",
        "data = pd.read_csv(data_location)"
      ],
      "metadata": {
        "id": "JJM_j-gaxNP7"
      },
      "execution_count": 48,
      "outputs": []
    },
    {
      "cell_type": "code",
      "source": [
        "# Mostrar información resumida sobre el DataFrame\n",
        "print(data.info())"
      ],
      "metadata": {
        "colab": {
          "base_uri": "https://localhost:8080/"
        },
        "id": "zS7Ho90Oxgyy",
        "outputId": "d6921f82-ddf0-4c23-de8f-e3f8f5895117"
      },
      "execution_count": 46,
      "outputs": [
        {
          "output_type": "stream",
          "name": "stdout",
          "text": [
            "<class 'pandas.core.frame.DataFrame'>\n",
            "RangeIndex: 129971 entries, 0 to 129970\n",
            "Data columns (total 14 columns):\n",
            " #   Column                 Non-Null Count   Dtype  \n",
            "---  ------                 --------------   -----  \n",
            " 0   Unnamed: 0             129971 non-null  int64  \n",
            " 1   country                129908 non-null  object \n",
            " 2   description            129971 non-null  object \n",
            " 3   designation            92506 non-null   object \n",
            " 4   points                 129971 non-null  int64  \n",
            " 5   price                  120975 non-null  float64\n",
            " 6   province               129908 non-null  object \n",
            " 7   region_1               108724 non-null  object \n",
            " 8   region_2               50511 non-null   object \n",
            " 9   taster_name            103727 non-null  object \n",
            " 10  taster_twitter_handle  98758 non-null   object \n",
            " 11  title                  129971 non-null  object \n",
            " 12  variety                129970 non-null  object \n",
            " 13  winery                 129971 non-null  object \n",
            "dtypes: float64(1), int64(2), object(11)\n",
            "memory usage: 13.9+ MB\n",
            "None\n"
          ]
        }
      ]
    },
    {
      "cell_type": "code",
      "source": [
        "# Calcular la cantidad de datos ausentes para \"designation\" y \"region_2\"\n",
        "missing_designation = data['designation'].isnull().sum()\n",
        "missing_region_2 = data['region_2'].isnull().sum()\n",
        "\n",
        "# Comparar y mostrar el resultado\n",
        "if missing_designation > missing_region_2:\n",
        "    print(\"La columna 'designation' tiene más datos ausentes.\")\n",
        "elif missing_designation < missing_region_2:\n",
        "    print(\"La columna 'region_2' tiene más datos ausentes.\")\n",
        "else:\n",
        "    print(\"Ambas columnas tienen la misma cantidad de datos ausentes.\")\n"
      ],
      "metadata": {
        "colab": {
          "base_uri": "https://localhost:8080/"
        },
        "id": "D3P2fy1DyIB_",
        "outputId": "efdf7d21-f4a9-470e-c274-8f15602d053a"
      },
      "execution_count": 50,
      "outputs": [
        {
          "output_type": "stream",
          "name": "stdout",
          "text": [
            "La columna 'region_2' tiene más datos ausentes.\n"
          ]
        }
      ]
    },
    {
      "cell_type": "code",
      "source": [
        "print(missing_designation)"
      ],
      "metadata": {
        "colab": {
          "base_uri": "https://localhost:8080/"
        },
        "id": "hLW1kD87ypGR",
        "outputId": "3c1aad9b-44e1-434d-f40b-15b94d757a68"
      },
      "execution_count": 51,
      "outputs": [
        {
          "output_type": "stream",
          "name": "stdout",
          "text": [
            "37465\n"
          ]
        }
      ]
    },
    {
      "cell_type": "code",
      "source": [
        "print(missing_region_2)"
      ],
      "metadata": {
        "colab": {
          "base_uri": "https://localhost:8080/"
        },
        "id": "aS6xVubpytgL",
        "outputId": "0bb7c8aa-1dc9-4f5f-eb4f-507111a501da"
      },
      "execution_count": 52,
      "outputs": [
        {
          "output_type": "stream",
          "name": "stdout",
          "text": [
            "79460\n"
          ]
        }
      ]
    },
    {
      "cell_type": "code",
      "source": [
        "# Ordenar las columnas por cantidad de datos ausentes de menor a mayor\n",
        "missing_data_sorted = missing_data.sort_values()\n",
        "\n",
        "# Mostrar la cantidad de datos ausentes por columna ordenada\n",
        "print(missing_data_sorted)"
      ],
      "metadata": {
        "colab": {
          "base_uri": "https://localhost:8080/"
        },
        "id": "sF4VxjGXzDXR",
        "outputId": "1627ce17-06d1-4abc-d88f-da55afc0448b"
      },
      "execution_count": 54,
      "outputs": [
        {
          "output_type": "stream",
          "name": "stdout",
          "text": [
            "Unnamed: 0                   0\n",
            "description                  0\n",
            "points                       0\n",
            "title                        0\n",
            "winery                       0\n",
            "variety                      1\n",
            "country                     63\n",
            "province                    63\n",
            "price                     8996\n",
            "region_1                 21247\n",
            "taster_name              26244\n",
            "taster_twitter_handle    31213\n",
            "designation              37465\n",
            "region_2                 79460\n",
            "dtype: int64\n"
          ]
        }
      ]
    },
    {
      "cell_type": "code",
      "source": [
        "# Filtrar los registros para el país \"Argentina\"\n",
        "argentina_data = data[data['country'] == 'Argentina']\n",
        "\n",
        "# Mostrar los primeros registros del DataFrame filtrado\n",
        "print(argentina_data.head())"
      ],
      "metadata": {
        "colab": {
          "base_uri": "https://localhost:8080/"
        },
        "id": "lzaTXKYJzp02",
        "outputId": "f8d719bc-4b16-4169-cd75-706f81556269"
      },
      "execution_count": 55,
      "outputs": [
        {
          "output_type": "stream",
          "name": "stdout",
          "text": [
            "     Unnamed: 0    country                                        description  \\\n",
            "16           16  Argentina  Baked plum, molasses, balsamic vinegar and che...   \n",
            "17           17  Argentina  Raw black-cherry aromas are direct and simple ...   \n",
            "183         183  Argentina  With attractive melon and other tropical aroma...   \n",
            "224         224  Argentina  Blackberry and road-tar aromas are dark and st...   \n",
            "231         231  Argentina  Meaty and rubbery, but that's young Bonarda. T...   \n",
            "\n",
            "             designation  points  price          province       region_1  \\\n",
            "16                 Felix      87   30.0             Other       Cafayate   \n",
            "17   Winemaker Selection      87   13.0  Mendoza Province        Mendoza   \n",
            "183                  NaN      88   12.0             Other          Salta   \n",
            "224                Lunta      90   22.0  Mendoza Province  Luján de Cuyo   \n",
            "231                  NaN      85   10.0  Mendoza Province        Mendoza   \n",
            "\n",
            "    region_2        taster_name taster_twitter_handle  \\\n",
            "16       NaN  Michael Schachner           @wineschach   \n",
            "17       NaN  Michael Schachner           @wineschach   \n",
            "183      NaN  Michael Schachner           @wineschach   \n",
            "224      NaN  Michael Schachner           @wineschach   \n",
            "231      NaN  Michael Schachner           @wineschach   \n",
            "\n",
            "                                                 title    variety  \\\n",
            "16          Felix Lavaque 2010 Felix Malbec (Cafayate)     Malbec   \n",
            "17   Gaucho Andino 2011 Winemaker Selection Malbec ...     Malbec   \n",
            "183                      Alamos 2007 Torrontés (Salta)  Torrontés   \n",
            "224           Mendel 2014 Lunta Malbec (Luján de Cuyo)     Malbec   \n",
            "231                  Andean Sky 2007 Bonarda (Mendoza)    Bonarda   \n",
            "\n",
            "            winery  \n",
            "16   Felix Lavaque  \n",
            "17   Gaucho Andino  \n",
            "183         Alamos  \n",
            "224         Mendel  \n",
            "231     Andean Sky  \n"
          ]
        }
      ]
    },
    {
      "cell_type": "code",
      "source": [
        "# Filtrar los registros para el país \"Argentina\"\n",
        "argentina_indices = data[data['country'] == 'Argentina'].index\n",
        "\n",
        "# Mostrar los índices de los registros para Argentina\n",
        "print(\"Índices de los registros para Argentina:\", argentina_indices)"
      ],
      "metadata": {
        "colab": {
          "base_uri": "https://localhost:8080/"
        },
        "id": "LuhnhZUK0BFS",
        "outputId": "f68a1c6c-1732-44fd-d963-78f91a192cf7"
      },
      "execution_count": 56,
      "outputs": [
        {
          "output_type": "stream",
          "name": "stdout",
          "text": [
            "Índices de los registros para Argentina: Int64Index([    16,     17,    183,    224,    231,    245,    253,    261,\n",
            "               266,    273,\n",
            "            ...\n",
            "            129777, 129886, 129887, 129890, 129917, 129921, 129925, 129932,\n",
            "            129938, 129948],\n",
            "           dtype='int64', length=3800)\n"
          ]
        }
      ]
    },
    {
      "cell_type": "code",
      "source": [
        "# Obtener la cantidad de referencias por país y ordenar en orden descendente\n",
        "paises_referencias = data['country'].value_counts().sort_values(ascending=False)\n",
        "\n",
        "# Mostrar los países y sus referencias en orden descendente\n",
        "print(paises_referencias)"
      ],
      "metadata": {
        "colab": {
          "base_uri": "https://localhost:8080/"
        },
        "id": "GMgvvdv_0jGO",
        "outputId": "c16a54f0-47f7-419f-a37e-9de84df921d8"
      },
      "execution_count": 58,
      "outputs": [
        {
          "output_type": "stream",
          "name": "stdout",
          "text": [
            "US                        54504\n",
            "France                    22093\n",
            "Italy                     19540\n",
            "Spain                      6645\n",
            "Portugal                   5691\n",
            "Chile                      4472\n",
            "Argentina                  3800\n",
            "Austria                    3345\n",
            "Australia                  2329\n",
            "Germany                    2165\n",
            "New Zealand                1419\n",
            "South Africa               1401\n",
            "Israel                      505\n",
            "Greece                      466\n",
            "Canada                      257\n",
            "Hungary                     146\n",
            "Bulgaria                    141\n",
            "Romania                     120\n",
            "Uruguay                     109\n",
            "Turkey                       90\n",
            "Slovenia                     87\n",
            "Georgia                      86\n",
            "England                      74\n",
            "Croatia                      73\n",
            "Mexico                       70\n",
            "Moldova                      59\n",
            "Brazil                       52\n",
            "Lebanon                      35\n",
            "Morocco                      28\n",
            "Peru                         16\n",
            "Ukraine                      14\n",
            "Macedonia                    12\n",
            "Czech Republic               12\n",
            "Serbia                       12\n",
            "Cyprus                       11\n",
            "India                         9\n",
            "Switzerland                   7\n",
            "Luxembourg                    6\n",
            "Bosnia and Herzegovina        2\n",
            "Armenia                       2\n",
            "Slovakia                      1\n",
            "China                         1\n",
            "Egypt                         1\n",
            "Name: country, dtype: int64\n"
          ]
        }
      ]
    },
    {
      "cell_type": "code",
      "source": [
        "# Obtener la cantidad de referencias por país y ordenar en orden descendente\n",
        "paises_referencias = data['country'].value_counts().sort_values(ascending=False)\n",
        "\n",
        "# Obtener la posición de un país específico, por ejemplo, \"Argentina\"\n",
        "posicion_argentina = paises_referencias.index.get_loc(\"Argentina\")\n",
        "\n",
        "# Mostrar la posición de \"Argentina\" en la lista ordenada\n",
        "print(\"La posición de Argentina es:\", posicion_argentina + 1)"
      ],
      "metadata": {
        "colab": {
          "base_uri": "https://localhost:8080/"
        },
        "id": "NwzZWYDD0n-n",
        "outputId": "a836f575-057c-47d5-f9c1-30538eb1ea58"
      },
      "execution_count": 59,
      "outputs": [
        {
          "output_type": "stream",
          "name": "stdout",
          "text": [
            "La posición de Argentina es: 7\n"
          ]
        }
      ]
    },
    {
      "cell_type": "code",
      "source": [
        "# Obtener la cantidad de referencias por país y ordenar en orden descendente\n",
        "paises_referencias = data['country'].value_counts().sort_values(ascending=False)\n",
        "\n",
        "# Obtener la posición de un país específico, por ejemplo, \"Portugal\"\n",
        "posicion_portugal = paises_referencias.index.get_loc(\"Portugal\")\n",
        "\n",
        "# Mostrar la posición de \"Portugal\" en la lista ordenada\n",
        "print(\"La posición de Portugal es:\", posicion_portugal + 1)"
      ],
      "metadata": {
        "colab": {
          "base_uri": "https://localhost:8080/"
        },
        "id": "nxqDAOT10-Xd",
        "outputId": "205a7b28-f42a-44ba-8f7f-f846d1519cc1"
      },
      "execution_count": 60,
      "outputs": [
        {
          "output_type": "stream",
          "name": "stdout",
          "text": [
            "La posición de Portugal es: 5\n"
          ]
        }
      ]
    },
    {
      "cell_type": "code",
      "source": [
        "# Filtrar los registros para los países \"Italy\", \"Spain\" y \"France\"\n",
        "italy_data = data[data['country'] == 'Italy']\n",
        "spain_data = data[data['country'] == 'Spain']\n",
        "france_data = data[data['country'] == 'France']\n",
        "\n",
        "# Calcular la cantidad de referencias para cada país\n",
        "referencias_italy = len(italy_data)\n",
        "referencias_spain = len(spain_data)\n",
        "referencias_france = len(france_data)\n",
        "\n",
        "# Verificar si la suma de las referencias de \"Italy\" y \"Spain\" supera a las de \"France\"\n",
        "if referencias_italy + referencias_spain > referencias_france:\n",
        "    print(\"La suma de referencias de Italy y Spain supera a las de France.\")\n",
        "else:\n",
        "    print(\"La suma de referencias de Italy y Spain no supera a las de France.\")"
      ],
      "metadata": {
        "colab": {
          "base_uri": "https://localhost:8080/"
        },
        "id": "GYOLERqq1hJD",
        "outputId": "dd4cb8e9-bf25-417b-930d-69d4b4c782ab"
      },
      "execution_count": 61,
      "outputs": [
        {
          "output_type": "stream",
          "name": "stdout",
          "text": [
            "La suma de referencias de Italy y Spain supera a las de France.\n"
          ]
        }
      ]
    },
    {
      "cell_type": "code",
      "source": [
        "# Filtrar los registros para el país \"Argentina\"\n",
        "argentina_data = data[data['country'] == 'Argentina']\n",
        "\n",
        "# Contar la cantidad de datos ausentes en el campo \"price\" para Argentina\n",
        "datos_ausentes_price_argentina = argentina_data['price'].isnull().sum()\n",
        "\n",
        "# Mostrar el resultado\n",
        "print(\"Cantidad de datos ausentes en el campo 'price' para Argentina:\", datos_ausentes_price_argentina)"
      ],
      "metadata": {
        "colab": {
          "base_uri": "https://localhost:8080/"
        },
        "id": "WQC283Au1wnI",
        "outputId": "96614b17-e8ff-4a54-8304-8cd3f013d019"
      },
      "execution_count": 65,
      "outputs": [
        {
          "output_type": "stream",
          "name": "stdout",
          "text": [
            "Cantidad de datos ausentes en el campo 'price' para Argentina: 44\n"
          ]
        }
      ]
    },
    {
      "cell_type": "code",
      "source": [
        "# Filtrar los registros para el país \"Argentina\"\n",
        "argentina_data = data[data['country'] == 'Argentina']\n",
        "\n",
        "# Calcular la cantidad de referencias por bodega (vinería) y ordenar en orden descendente\n",
        "bodegas_referencias_argentina = argentina_data['winery'].value_counts().sort_values(ascending=False)\n",
        "\n",
        "# Obtener la bodega con la mayor cantidad de referencias\n",
        "mayor_referencias_bodega = bodegas_referencias_argentina.index[0]\n",
        "\n",
        "# Mostrar el resultado\n",
        "print(\"La bodega con la mayor cantidad de referencias en Argentina es:\", mayor_referencias_bodega)"
      ],
      "metadata": {
        "colab": {
          "base_uri": "https://localhost:8080/"
        },
        "id": "pbDXuL6X25i1",
        "outputId": "6215cd33-779f-4066-83fc-89fe948a9575"
      },
      "execution_count": 73,
      "outputs": [
        {
          "output_type": "stream",
          "name": "stdout",
          "text": [
            "La bodega con la mayor cantidad de referencias en Argentina es: Trapiche\n"
          ]
        }
      ]
    },
    {
      "cell_type": "code",
      "source": [
        "# Filtrar los registros para el país \"Argentina\" y la bodega \"Norton\"\n",
        "argentina_norton_data = data[(data['country'] == 'Argentina') & (data['winery'] == 'Norton')]\n",
        "\n",
        "# Calcular el total de referencias de la bodega \"Norton\" en Argentina\n",
        "total_referencias_norton = argentina_norton_data.shape[0]\n",
        "\n",
        "# Mostrar el total de referencias de la bodega \"Norton\" en Argentina\n",
        "print(\"Total de referencias de la bodega 'Norton' en Argentina:\", total_referencias_norton)"
      ],
      "metadata": {
        "colab": {
          "base_uri": "https://localhost:8080/"
        },
        "id": "W7mJ1_I75M5_",
        "outputId": "5e5209c3-b7e3-49e1-8cb3-c4bde0148fa6"
      },
      "execution_count": 77,
      "outputs": [
        {
          "output_type": "stream",
          "name": "stdout",
          "text": [
            "Total de referencias de la bodega 'Norton' en Argentina: 0\n"
          ]
        }
      ]
    },
    {
      "cell_type": "code",
      "source": [
        "# Filtrar los registros para el país \"Argentina\"\n",
        "argentina_data = data[data['country'] == 'Argentina']\n",
        "\n",
        "# Encontrar la bodega mejor puntuada en Argentina\n",
        "mejor_bodega_argentina = argentina_data[argentina_data['points'] == argentina_data['points'].max()]['winery'].values[0]\n",
        "\n",
        "# Mostrar la bodega mejor puntuada en Argentina\n",
        "print(\"La bodega mejor puntuada en Argentina es:\", mejor_bodega_argentina)"
      ],
      "metadata": {
        "colab": {
          "base_uri": "https://localhost:8080/"
        },
        "id": "OjQM4Y1G5Zg1",
        "outputId": "60720919-0359-43e3-aaef-fac3b59a43ac"
      },
      "execution_count": 78,
      "outputs": [
        {
          "output_type": "stream",
          "name": "stdout",
          "text": [
            "La bodega mejor puntuada en Argentina es: Bodega Catena Zapata\n"
          ]
        }
      ]
    },
    {
      "cell_type": "code",
      "source": [
        "# Filtrar los registros para el país \"Argentina\"\n",
        "argentina_data = data[data['country'] == 'Argentina']\n",
        "\n",
        "# Encontrar el vino más caro de Argentina\n",
        "vino_mas_caro_argentina = argentina_data[argentina_data['price'] == argentina_data['price'].max()]\n",
        "\n",
        "# Mostrar la información del vino más caro de Argentina\n",
        "print(\"Información del vino más caro de Argentina:\")\n",
        "print(vino_mas_caro_argentina[['title', 'winery', 'price']])"
      ],
      "metadata": {
        "colab": {
          "base_uri": "https://localhost:8080/"
        },
        "id": "V3bgS3aK5lxI",
        "outputId": "6223e83e-b021-44c0-f111-299c70d5614b"
      },
      "execution_count": 79,
      "outputs": [
        {
          "output_type": "stream",
          "name": "stdout",
          "text": [
            "Información del vino más caro de Argentina:\n",
            "                                                   title      winery  price\n",
            "61144  Viña Cobos 2012 Volturno Marchiori Vineyard Ca...  Viña Cobos  230.0\n",
            "87328  Viña Cobos 2013 Volturno Cabernet Sauvignon (P...  Viña Cobos  230.0\n"
          ]
        }
      ]
    },
    {
      "cell_type": "code",
      "source": [
        "# Encontrar el vino más caro de todos\n",
        "vino_mas_caro = data[data['price'] == data['price'].max()]\n",
        "\n",
        "# Mostrar la información del vino más caro\n",
        "print(\"Información del vino más caro:\")\n",
        "print(vino_mas_caro[['title', 'winery', 'country', 'price']])"
      ],
      "metadata": {
        "colab": {
          "base_uri": "https://localhost:8080/"
        },
        "id": "cKxlBV8653OJ",
        "outputId": "ddbc1c6f-61c7-4df9-bd2b-9cfa99682158"
      },
      "execution_count": 80,
      "outputs": [
        {
          "output_type": "stream",
          "name": "stdout",
          "text": [
            "Información del vino más caro:\n",
            "                                      title                    winery country  \\\n",
            "80290  Château les Ormes Sorbet 2013  Médoc  Château les Ormes Sorbet  France   \n",
            "\n",
            "        price  \n",
            "80290  3300.0  \n"
          ]
        }
      ]
    },
    {
      "cell_type": "code",
      "source": [
        "# Filtrar los registros para vinos con precio de 4 dólares\n",
        "vinos_precio_4 = data[data['price'] == 4]\n",
        "\n",
        "# Calcular el total de vinos con precio de 4 dólares\n",
        "total_vinos_precio_4 = vinos_precio_4.shape[0]\n",
        "\n",
        "# Mostrar el total de vinos con precio de 4 dólares\n",
        "print(\"Total de vinos con precio de 4 dólares:\", total_vinos_precio_4)"
      ],
      "metadata": {
        "colab": {
          "base_uri": "https://localhost:8080/"
        },
        "id": "9KjgYkDF8APT",
        "outputId": "6063010d-fe6e-45e5-a0d6-822554fb8ea7"
      },
      "execution_count": 81,
      "outputs": [
        {
          "output_type": "stream",
          "name": "stdout",
          "text": [
            "Total de vinos con precio de 4 dólares: 11\n"
          ]
        }
      ]
    },
    {
      "cell_type": "code",
      "source": [
        "# Calcular el puntaje promedio por país\n",
        "promedio_puntajes_pais = data.groupby('country')['points'].mean()\n",
        "\n",
        "# Encontrar el país con el puntaje promedio más bajo\n",
        "pais_puntaje_mas_bajo = promedio_puntajes_pais.idxmin()\n",
        "puntaje_promedio_mas_bajo = promedio_puntajes_pais.min()\n",
        "\n",
        "# Mostrar el país con el puntaje promedio más bajo y su puntaje\n",
        "print(\"País con el puntaje promedio más bajo:\", pais_puntaje_mas_bajo)\n",
        "print(\"Puntaje promedio más bajo:\", puntaje_promedio_mas_bajo)"
      ],
      "metadata": {
        "colab": {
          "base_uri": "https://localhost:8080/"
        },
        "id": "liouk3de8UcN",
        "outputId": "efd0e5c7-7fa3-454f-f9fa-21ea28aa06dd"
      },
      "execution_count": 82,
      "outputs": [
        {
          "output_type": "stream",
          "name": "stdout",
          "text": [
            "País con el puntaje promedio más bajo: Peru\n",
            "Puntaje promedio más bajo: 83.5625\n"
          ]
        }
      ]
    },
    {
      "cell_type": "code",
      "source": [
        "# Filtrar los registros donde el precio no sea nulo y agrupar por país\n",
        "data_cleaned = data.dropna(subset=['price'])\n",
        "promedio_precio_por_pais = data_cleaned.groupby('country')['price'].mean()\n",
        "\n",
        "# Encontrar el país con el vino promedio más caro en función del puntaje\n",
        "pais_vino_mas_caro_por_puntaje = promedio_precio_por_pais.idxmax()\n",
        "precio_promedio_mas_caro_por_puntaje = promedio_precio_por_pais.max()\n",
        "\n",
        "# Mostrar el país y el precio promedio más caro en función del puntaje\n",
        "print(\"País con el vino promedio más caro en función del puntaje:\", pais_vino_mas_caro_por_puntaje)\n",
        "print(\"Precio promedio más caro en función del puntaje:\", precio_promedio_mas_caro_por_puntaje)"
      ],
      "metadata": {
        "colab": {
          "base_uri": "https://localhost:8080/"
        },
        "id": "SG83bLsH9HLg",
        "outputId": "eaae5a8f-a99d-4e69-a658-d22b107c86aa"
      },
      "execution_count": 84,
      "outputs": [
        {
          "output_type": "stream",
          "name": "stdout",
          "text": [
            "País con el vino promedio más caro en función del puntaje: Switzerland\n",
            "Precio promedio más caro en función del puntaje: 85.28571428571429\n"
          ]
        }
      ]
    },
    {
      "cell_type": "code",
      "source": [
        "# Filtrar los registros donde el precio no sea nulo y agrupar por país\n",
        "data_cleaned = data.dropna(subset=['price'])\n",
        "promedio_precio_por_pais = data_cleaned.groupby('country')['price'].mean()\n",
        "\n",
        "# Encontrar el país con el precio promedio más bajo y más alto\n",
        "pais_precio_mas_bajo = promedio_precio_por_pais.idxmin()\n",
        "precio_promedio_mas_bajo = promedio_precio_por_pais.min()\n",
        "\n",
        "pais_precio_mas_alto = promedio_precio_por_pais.idxmax()\n",
        "precio_promedio_mas_alto = promedio_precio_por_pais.max()\n",
        "\n",
        "# Mostrar el país y el precio promedio más bajo\n",
        "print(\"País con el precio promedio más bajo:\", pais_precio_mas_bajo)\n",
        "print(\"Precio promedio más bajo:\", precio_promedio_mas_bajo)\n",
        "\n",
        "# Mostrar el país y el precio promedio más alto\n",
        "print(\"País con el precio promedio más alto:\", pais_precio_mas_alto)\n",
        "print(\"Precio promedio más alto:\", precio_promedio_mas_alto)"
      ],
      "metadata": {
        "colab": {
          "base_uri": "https://localhost:8080/"
        },
        "id": "s9YboC_n9Keo",
        "outputId": "9ab2c1a5-86e7-4a00-be45-1165389888f0"
      },
      "execution_count": 85,
      "outputs": [
        {
          "output_type": "stream",
          "name": "stdout",
          "text": [
            "País con el precio promedio más bajo: Ukraine\n",
            "Precio promedio más bajo: 9.214285714285714\n",
            "País con el precio promedio más alto: Switzerland\n",
            "Precio promedio más alto: 85.28571428571429\n"
          ]
        }
      ]
    },
    {
      "cell_type": "code",
      "source": [
        "# Calcular el número de personas que probaron los vinos (número único de tasters)\n",
        "num_personas = data['taster_name'].nunique()\n",
        "\n",
        "# Mostrar el número de personas que probaron los vinos\n",
        "print(\"Número de personas que probaron los vinos:\", num_personas)"
      ],
      "metadata": {
        "colab": {
          "base_uri": "https://localhost:8080/"
        },
        "id": "BEhlTuEf9i83",
        "outputId": "f351b619-2594-4a2f-8d57-11e113f4bb55"
      },
      "execution_count": 86,
      "outputs": [
        {
          "output_type": "stream",
          "name": "stdout",
          "text": [
            "Número de personas que probaron los vinos: 19\n"
          ]
        }
      ]
    },
    {
      "cell_type": "code",
      "source": [
        "# Filtrar los registros donde los críticos son Roger Voss, Kerin O'Keefe y Michael Schachner\n",
        "criticos_seleccionados = ['Roger Voss', 'Kerin O\\'Keefe', 'Michael Schachner']\n",
        "data_criticos_seleccionados = data[data['taster_name'].isin(criticos_seleccionados)]\n",
        "\n",
        "# Calcular el total de referencias para cada crítico\n",
        "total_referencias_por_critico = data_criticos_seleccionados['taster_name'].value_counts()\n",
        "\n",
        "# Ordenar de mayor a menor por total de referencias\n",
        "total_referencias_ordenado = total_referencias_por_critico.sort_values(ascending=False)\n",
        "\n",
        "# Mostrar el resultado ordenado\n",
        "print(\"Total de referencias por crítico (de mayor a menor):\")\n",
        "print(total_referencias_ordenado)"
      ],
      "metadata": {
        "colab": {
          "base_uri": "https://localhost:8080/"
        },
        "id": "e2S4EwO1-NAP",
        "outputId": "bab299fd-82e4-4bed-d106-b755e98070ac"
      },
      "execution_count": 87,
      "outputs": [
        {
          "output_type": "stream",
          "name": "stdout",
          "text": [
            "Total de referencias por crítico (de mayor a menor):\n",
            "Roger Voss           25514\n",
            "Michael Schachner    15134\n",
            "Name: taster_name, dtype: int64\n"
          ]
        }
      ]
    }
  ]
}