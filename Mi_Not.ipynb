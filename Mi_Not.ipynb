{
  "cells": [
    {
      "cell_type": "markdown",
      "metadata": {
        "id": "view-in-github",
        "colab_type": "text"
      },
      "source": [
        "<a href=\"https://colab.research.google.com/github/carladellorfano/carladellorfano/blob/main/Mi_Not.ipynb\" target=\"_parent\"><img src=\"https://colab.research.google.com/assets/colab-badge.svg\" alt=\"Open In Colab\"/></a>"
      ]
    },
    {
      "cell_type": "code",
      "execution_count": null,
      "metadata": {
        "colab": {
          "base_uri": "https://localhost:8080/"
        },
        "id": "qCcu1hKEodV6",
        "outputId": "e5dc2968-3610-42d2-e535-42fa04511816"
      },
      "outputs": [
        {
          "name": "stdout",
          "output_type": "stream",
          "text": [
            "Carla Dell'Orfano\n"
          ]
        }
      ],
      "source": [
        "numero = 0\n",
        "palabra = \"Carla Dell'Orfano\"\n",
        "print(palabra)"
      ]
    },
    {
      "cell_type": "code",
      "execution_count": null,
      "metadata": {
        "colab": {
          "base_uri": "https://localhost:8080/"
        },
        "id": "slM3JYeVqzsm",
        "outputId": "554e6c83-d20b-46db-fc80-a631b7c7a5f2"
      },
      "outputs": [
        {
          "name": "stdout",
          "output_type": "stream",
          "text": [
            "Buenas noches\n"
          ]
        }
      ],
      "source": [
        "if numero > 5:\n",
        "  print(\"Hola\")\n",
        "  print(\"Adios\")\n",
        "  print(\"Buenas Noches\")\n",
        "if numero > 5:\n",
        "  print(\"Hola\")\n",
        "elif numero > 1:\n",
        "  print(\"Adios\")\n",
        "else:\n",
        "  print(\"Buenas noches\")\n"
      ]
    },
    {
      "cell_type": "code",
      "execution_count": null,
      "metadata": {
        "colab": {
          "base_uri": "https://localhost:8080/"
        },
        "id": "zmCC3irKrr7T",
        "outputId": "67349370-6d13-4351-9bdf-8c9035a92b89"
      },
      "outputs": [
        {
          "name": "stdout",
          "output_type": "stream",
          "text": [
            "Hola 10\n",
            "Hola 14\n",
            "Hola 18\n"
          ]
        }
      ],
      "source": [
        "for i in range(10,20,4):\n",
        "  print(\"Hola\", i)"
      ]
    },
    {
      "cell_type": "code",
      "execution_count": null,
      "metadata": {
        "id": "Uv2saMmeuHze"
      },
      "outputs": [],
      "source": [
        "#Funciones\n",
        "def nombreDeLaFuncion():\n",
        "  print(\"Hola, soy una funcion\")\n",
        "  print(\"2 + 2 es: \" ,2+2)"
      ]
    },
    {
      "cell_type": "code",
      "execution_count": null,
      "metadata": {
        "colab": {
          "base_uri": "https://localhost:8080/"
        },
        "id": "Uf0MCfxvg0hB",
        "outputId": "be0d177a-ac09-4ce8-f39a-7c18269334ad"
      },
      "outputs": [
        {
          "name": "stdout",
          "output_type": "stream",
          "text": [
            "Hola, soy una funcion\n",
            "2 + 2 es:  4\n"
          ]
        }
      ],
      "source": [
        "nombreDeLaFuncion()"
      ]
    },
    {
      "cell_type": "code",
      "execution_count": null,
      "metadata": {
        "id": "58EmVZMQg9LD"
      },
      "outputs": [],
      "source": [
        "def greet_user():\n",
        "  \"\"\"Display a simple greeting\"\"\"\n",
        "  print(\"Hello!\")"
      ]
    },
    {
      "cell_type": "code",
      "execution_count": null,
      "metadata": {
        "colab": {
          "base_uri": "https://localhost:8080/"
        },
        "id": "3ES7WZQfiVlQ",
        "outputId": "db23f356-6dc8-45d4-fa6e-50b0e99df02d"
      },
      "outputs": [
        {
          "name": "stdout",
          "output_type": "stream",
          "text": [
            "Hello,Carla!\n"
          ]
        }
      ],
      "source": [
        "def greet_user(username):\n",
        "  \"\"\"Display a simple greeting.\"\"\"\n",
        "  print(f\"Hello,{username.title()}!\")\n",
        "greet_user('Carla')"
      ]
    },
    {
      "cell_type": "code",
      "execution_count": null,
      "metadata": {
        "colab": {
          "base_uri": "https://localhost:8080/"
        },
        "id": "ZpIwbvWajheK",
        "outputId": "48843ac0-c7aa-4b2e-88d0-9c83f1b921bc"
      },
      "outputs": [
        {
          "name": "stdout",
          "output_type": "stream",
          "text": [
            "La suma de los numeros es: 11\n"
          ]
        }
      ],
      "source": [
        "def sumarNumeros(a=1,b=10):\n",
        "  #Esto es un comentario\n",
        "  \"\"\" Esto es una funcion que permite sumar\"\"\"\n",
        "  print(\"La suma de los numeros es:\",a+b)\n",
        "sumarNumeros()"
      ]
    },
    {
      "cell_type": "code",
      "execution_count": null,
      "metadata": {
        "colab": {
          "base_uri": "https://localhost:8080/"
        },
        "id": "ktl8okGBkHZ_",
        "outputId": "5a8963ee-570f-468d-f13e-71eaa0de4418"
      },
      "outputs": [
        {
          "data": {
            "text/plain": [
              "<function __main__.sumarNumeros(a=1, b=10)>"
            ]
          },
          "execution_count": 11,
          "metadata": {},
          "output_type": "execute_result"
        }
      ],
      "source": [
        "sumarNumeros"
      ]
    },
    {
      "cell_type": "code",
      "execution_count": null,
      "metadata": {
        "colab": {
          "base_uri": "https://localhost:8080/"
        },
        "id": "YnT_ZHC_k3M5",
        "outputId": "de45ac92-0d37-41c3-9443-985494c7f615"
      },
      "outputs": [
        {
          "name": "stdout",
          "output_type": "stream",
          "text": [
            "La suma de los numeros es: 21\n"
          ]
        }
      ],
      "source": [
        "sumarNumeros(b=20) #Cambio el valor de la variable b y suma 1 + 20"
      ]
    },
    {
      "cell_type": "code",
      "execution_count": null,
      "metadata": {
        "id": "FpclRdTSlRJO"
      },
      "outputs": [],
      "source": [
        "numero=int()"
      ]
    },
    {
      "cell_type": "code",
      "execution_count": null,
      "metadata": {
        "id": "fcBwoqMylUXS"
      },
      "outputs": [],
      "source": [
        "numero=\"Pepe\""
      ]
    },
    {
      "cell_type": "code",
      "execution_count": null,
      "metadata": {
        "colab": {
          "base_uri": "https://localhost:8080/"
        },
        "id": "CnTE73NjlXf1",
        "outputId": "e61958f1-ef03-4624-8628-2fcc4933456f"
      },
      "outputs": [
        {
          "name": "stdout",
          "output_type": "stream",
          "text": [
            "La suma de los numeros es: Matias5\n"
          ]
        }
      ],
      "source": [
        "sumarNumeros(\"Matias\", \"5\") #Junta los valores no importa si son letras o numeros."
      ]
    },
    {
      "cell_type": "code",
      "execution_count": null,
      "metadata": {
        "id": "FA88flvKloOi"
      },
      "outputs": [],
      "source": [
        "def greet_user(username):\n",
        "  \"\"\"Display a simple greeting.\"\"\"\n",
        "  print(f\"Hello,{username.title()}!\") #Signo de admiracion por fuera de los {}"
      ]
    },
    {
      "cell_type": "code",
      "execution_count": null,
      "metadata": {
        "colab": {
          "base_uri": "https://localhost:8080/"
        },
        "id": "cjnwqU5kpizj",
        "outputId": "9e9dc9af-db34-4a2b-e2e0-172bd9ec0dd3"
      },
      "outputs": [
        {
          "name": "stdout",
          "output_type": "stream",
          "text": [
            "Hello,Matias!\n",
            "Hello, Carla dell'orfano!\n"
          ]
        }
      ],
      "source": [
        "greet_user('Matias')"
      ]
    },
    {
      "cell_type": "code",
      "execution_count": null,
      "metadata": {
        "colab": {
          "base_uri": "https://localhost:8080/"
        },
        "id": "Z-iL7mpPmpS5",
        "outputId": "77e687e9-46cc-45a5-f8ab-d8c8d61a61d8"
      },
      "outputs": [
        {
          "name": "stdout",
          "output_type": "stream",
          "text": [
            "Hello, Carla dell'orfano!\n"
          ]
        }
      ],
      "source": [
        "nombre= \"Carla Dell'Orfano\"\n",
        "print(f\"Hello, {nombre.capitalize()}!\") #caputalize es para combertir la primera letra en mayuscula y el resto en miuscula."
      ]
    },
    {
      "cell_type": "code",
      "execution_count": null,
      "metadata": {
        "colab": {
          "base_uri": "https://localhost:8080/"
        },
        "id": "nh4XbddnnBsf",
        "outputId": "dc446637-e95d-4c3e-b1c7-280d0dafd97e"
      },
      "outputs": [
        {
          "name": "stdout",
          "output_type": "stream",
          "text": [
            "Hello esta comparacion es 5>7, False!\n"
          ]
        }
      ],
      "source": [
        "print(f\"Hello esta comparacion es 5>7, {5>7}!\") #Dentro de { comparo} y devuelve V o F"
      ]
    },
    {
      "cell_type": "code",
      "execution_count": null,
      "metadata": {
        "colab": {
          "base_uri": "https://localhost:8080/"
        },
        "id": "SwPzuEEFolZW",
        "outputId": "969b6576-d2ed-4554-9dbd-08c5ec595e7e"
      },
      "outputs": [
        {
          "name": "stdout",
          "output_type": "stream",
          "text": [
            "La divicion de 1/7 es: 0.14\n",
            "La divicion de 1/7 es: 0.14286\n"
          ]
        }
      ],
      "source": [
        "print(f\"La divicion de 1/7 es: {1/7:.2f}\") #.2f me indica cuantos decimales quiero despues de la coma.\n",
        "print(f\"La divicion de 1/7 es: {1/7:.5f}\")"
      ]
    },
    {
      "cell_type": "code",
      "execution_count": null,
      "metadata": {
        "colab": {
          "base_uri": "https://localhost:8080/"
        },
        "id": "EKTdncN7pho3",
        "outputId": "7f74a299-da2c-4f34-cfc9-adb2653fbf80"
      },
      "outputs": [
        {
          "name": "stdout",
          "output_type": "stream",
          "text": [
            "Hello,Matias!\n",
            "Hello, Carla dell'orfano!\n"
          ]
        }
      ],
      "source": [
        "greet_user(\"Matias\")"
      ]
    },
    {
      "cell_type": "code",
      "execution_count": null,
      "metadata": {
        "id": "RG3n_2g-pw7F"
      },
      "outputs": [],
      "source": [
        "def describe_pet(animal_type, pet_name): #Funcion con dos variables\n",
        "  \"\"\"Display information about a pet.\"\"\"\n",
        "  print(f\"\\nI have a {animal_type}.\")\n",
        "  print(f\"My {animal_type}'s name is {pet_name.title()}.\")\n"
      ]
    },
    {
      "cell_type": "code",
      "execution_count": null,
      "metadata": {
        "colab": {
          "base_uri": "https://localhost:8080/"
        },
        "id": "rHQwSprgr46T",
        "outputId": "bd3ff3b1-80ae-4038-c62e-0c588d09484f"
      },
      "outputs": [
        {
          "name": "stdout",
          "output_type": "stream",
          "text": [
            "\n",
            "I have a hamster.\n",
            "My hamster's name is Harry.\n",
            "\n",
            "I have a dog.\n",
            "My dog's name is Wille.\n"
          ]
        }
      ],
      "source": [
        "describe_pet('hamster','harry')\n",
        "describe_pet('dog','wille')"
      ]
    },
    {
      "cell_type": "code",
      "execution_count": null,
      "metadata": {
        "colab": {
          "base_uri": "https://localhost:8080/"
        },
        "id": "xxMau3IAsbPm",
        "outputId": "c3fe3c8b-59a7-4641-db13-e10fae3610d5"
      },
      "outputs": [
        {
          "name": "stdout",
          "output_type": "stream",
          "text": [
            "\n",
            "I have a dog.\n",
            "My dog's name is Perreque.\n",
            "\n",
            "I have a Gato.\n",
            "My Gato's name is Luna.\n"
          ]
        }
      ],
      "source": [
        "describe_pet(animal_type='dog', pet_name='Perreque') #Keyword : par nombre y valor que pasa una funcion.\n",
        "describe_pet(pet_name='Luna', animal_type=\"Gato\") # Asocia el nombre y el valor dentro del argumento."
      ]
    },
    {
      "cell_type": "code",
      "execution_count": null,
      "metadata": {
        "colab": {
          "base_uri": "https://localhost:8080/"
        },
        "id": "iX34g4oRtc8w",
        "outputId": "16910026-b990-46d4-e44f-faf4c69e9e30"
      },
      "outputs": [
        {
          "name": "stdout",
          "output_type": "stream",
          "text": [
            "\n",
            "I have a dog.\n",
            "My dog's name is Perreque\n"
          ]
        }
      ],
      "source": [
        "def describe_pet(pet_name, animal_type='dog'):\n",
        "  print(f\"\\nI have a {animal_type}.\") #\\n salto de linea en la cadena, secuencia de escape.\n",
        "  print(f\"My {animal_type}'s name is {pet_name.title()}\")\n",
        "describe_pet(animal_type='dog', pet_name='Perreque')"
      ]
    },
    {
      "cell_type": "code",
      "execution_count": null,
      "metadata": {
        "colab": {
          "base_uri": "https://localhost:8080/"
        },
        "id": "ZSLNSIr57Pl0",
        "outputId": "e5678881-1c1c-481d-ba36-5e91acfbc25a"
      },
      "outputs": [
        {
          "name": "stdout",
          "output_type": "stream",
          "text": [
            "\n",
            "I have a dog.\n",
            "My dog's name is Perreque\n"
          ]
        }
      ],
      "source": [
        "describe_pet(animal_type='dog', pet_name='Perreque')"
      ]
    },
    {
      "cell_type": "code",
      "execution_count": null,
      "metadata": {
        "colab": {
          "base_uri": "https://localhost:8080/"
        },
        "id": "JSiixHaP9K4H",
        "outputId": "f77bb079-fd98-424c-debd-f8aa33836701"
      },
      "outputs": [
        {
          "name": "stdout",
          "output_type": "stream",
          "text": [
            "\n",
            "I have a dog.\n",
            "My dog's name is Luna\n"
          ]
        }
      ],
      "source": [
        "describe_pet('Luna')"
      ]
    },
    {
      "cell_type": "code",
      "execution_count": null,
      "metadata": {
        "colab": {
          "base_uri": "https://localhost:8080/"
        },
        "id": "Yk7Fnn8s9TrC",
        "outputId": "e4380c5c-07f0-4263-bbe2-91337100ed75"
      },
      "outputs": [
        {
          "name": "stdout",
          "output_type": "stream",
          "text": [
            "\n",
            "I have a cat.\n",
            "My cat's name is Luna\n"
          ]
        }
      ],
      "source": [
        "describe_pet(animal_type='cat', pet_name='Luna')"
      ]
    },
    {
      "cell_type": "code",
      "execution_count": null,
      "metadata": {
        "id": "JEVz40Eh9f7B"
      },
      "outputs": [],
      "source": [
        "#Argumento opccional, solo si tiene sentido.\n",
        "def get_formatted_name(first_name, middle_name, last_name):\n",
        "    \"\"\"Return a full name, neatly formatted.\"\"\"\n",
        "    full_name = f\"{first_name} {middle_name} {last_name}\"\n",
        "    return full_name.title()"
      ]
    },
    {
      "cell_type": "code",
      "execution_count": null,
      "metadata": {
        "colab": {
          "base_uri": "https://localhost:8080/"
        },
        "id": "OFEmI4Do_E3l",
        "outputId": "28991967-b081-4d6d-93b0-8d12857fb344"
      },
      "outputs": [
        {
          "name": "stdout",
          "output_type": "stream",
          "text": [
            "John Hooker Lee\n"
          ]
        }
      ],
      "source": [
        "variable = get_formatted_name('john', 'lee', 'hooker')\n",
        "print(variable)"
      ]
    },
    {
      "cell_type": "code",
      "execution_count": null,
      "metadata": {
        "id": "cB_Ox83W_ni2"
      },
      "outputs": [],
      "source": [
        "def get_formatted_name(first_name, last_name, middle_name=''):\n",
        "    \"\"\"Return a full name, neatly formatted.\"\"\"\n",
        "    if middle_name:\n",
        "        full_name = f\"{first_name} {middle_name} {last_name}\"\n",
        "    else:\n",
        "        full_name = f\"{first_name} {last_name}\"\n",
        "    return full_name.title()"
      ]
    },
    {
      "cell_type": "code",
      "execution_count": null,
      "metadata": {
        "id": "ISSvNAvuFlak"
      },
      "outputs": [],
      "source": [
        "def make_pizza(*toppings): #El * le dice a py que construya una tupla vacia\n",
        "    \"\"\"Print the list of toppings that have been requested.\"\"\"\n",
        "    print(toppings)"
      ]
    },
    {
      "cell_type": "code",
      "execution_count": null,
      "metadata": {
        "colab": {
          "base_uri": "https://localhost:8080/"
        },
        "id": "8EJWJeVIjKTp",
        "outputId": "8810cbcd-cdf4-4641-b143-0e098544141e"
      },
      "outputs": [
        {
          "name": "stdout",
          "output_type": "stream",
          "text": [
            "('pepperoni',)\n"
          ]
        }
      ],
      "source": [
        "make_pizza('pepperoni')"
      ]
    },
    {
      "cell_type": "code",
      "execution_count": null,
      "metadata": {
        "colab": {
          "base_uri": "https://localhost:8080/"
        },
        "id": "eb8JDuV4jKTq",
        "outputId": "0db3cbc5-0fff-4cc6-f46d-71c261216889"
      },
      "outputs": [
        {
          "name": "stdout",
          "output_type": "stream",
          "text": [
            "('mushrooms', 'green peppers', 'extra cheese', 5)\n"
          ]
        }
      ],
      "source": [
        "make_pizza('mushrooms', 'green peppers', 'extra cheese',5) #Puedo agregar todos los argumentos que quiero"
      ]
    },
    {
      "cell_type": "code",
      "execution_count": null,
      "metadata": {
        "id": "PE4c0RqdHYAx"
      },
      "outputs": [],
      "source": [
        "def pizza_especial(*ingredientes):\n",
        "  print(ingredientes)"
      ]
    },
    {
      "cell_type": "code",
      "execution_count": null,
      "metadata": {
        "colab": {
          "base_uri": "https://localhost:8080/"
        },
        "id": "G_fKtOjfHlAS",
        "outputId": "007a3373-1272-4a83-deea-54402bb0e6e5"
      },
      "outputs": [
        {
          "name": "stdout",
          "output_type": "stream",
          "text": [
            "('masa', 'salsa', 'queso muzza', 'tomate', 'ajo')\n"
          ]
        }
      ],
      "source": [
        "pizza_especial('masa', 'salsa', 'queso muzza', 'tomate', 'ajo')"
      ]
    },
    {
      "cell_type": "code",
      "execution_count": null,
      "metadata": {
        "id": "-mTY-keJTqLw"
      },
      "outputs": [],
      "source": [
        "#Creamos diccionario vacio con **user_info\n",
        "def build_profile(first, last, **user_info):\n",
        "    \"\"\"Build a dictionary containing everything we know about a user.\"\"\"\n",
        "\n",
        "    user_info['first_name'] = first\n",
        "    user_info['last_name'] = last\n",
        "    return user_info"
      ]
    },
    {
      "cell_type": "code",
      "execution_count": null,
      "metadata": {
        "colab": {
          "base_uri": "https://localhost:8080/"
        },
        "id": "kxP-CBp9VqHV",
        "outputId": "466a30be-9056-4a27-8ca8-7806cd67737c"
      },
      "outputs": [
        {
          "name": "stdout",
          "output_type": "stream",
          "text": [
            "{'location': 'princeton', 'field': 'physics', 'first_name': 'albert', 'last_name': 'einstein'}\n"
          ]
        }
      ],
      "source": [
        "user_profile = build_profile('albert', 'einstein',\n",
        "location='princeton' ,\n",
        "field='physics')\n",
        "print(user_profile)"
      ]
    },
    {
      "cell_type": "code",
      "execution_count": null,
      "metadata": {
        "id": "4jxt-a5IXOy3"
      },
      "outputs": [],
      "source": [
        "#return , valor que devuelve la funcion\n",
        "def calculo_xyz(x, y, z=1.5):\n",
        "  if z > 1:\n",
        "    return z*(x+y)\n",
        "  else:\n",
        "    return z/(x+y)\n"
      ]
    },
    {
      "cell_type": "code",
      "execution_count": null,
      "metadata": {
        "colab": {
          "base_uri": "https://localhost:8080/"
        },
        "id": "Sq7fOpexX7Kz",
        "outputId": "51ffdd40-acea-4a60-b052-50558345ce2a"
      },
      "outputs": [
        {
          "name": "stdout",
          "output_type": "stream",
          "text": [
            "100\n"
          ]
        }
      ],
      "source": [
        "resultado = calculo_xyz(20,30,2)\n",
        "print(resultado)"
      ]
    },
    {
      "cell_type": "code",
      "execution_count": null,
      "metadata": {
        "colab": {
          "base_uri": "https://localhost:8080/"
        },
        "id": "GQMVH14jYqdX",
        "outputId": "0b8b2b3b-75fe-4ede-8f74-2c9036972034"
      },
      "outputs": [
        {
          "data": {
            "text/plain": [
              "500"
            ]
          },
          "execution_count": 17,
          "metadata": {},
          "output_type": "execute_result"
        }
      ],
      "source": [
        "calculo_xyz(20,30,10) #No necesito utilizar print"
      ]
    },
    {
      "cell_type": "code",
      "execution_count": null,
      "metadata": {
        "id": "0A2P7XOuYwu2"
      },
      "outputs": [],
      "source": [
        "#Devolver varios resultados\n",
        "def varios_resultados():\n",
        "  a = 5\n",
        "  b = 6\n",
        "  c = 7\n",
        "  return a, b, c\n",
        "  x, y, z = varios_resultados()\n",
        "  print(x, y, z)"
      ]
    },
    {
      "cell_type": "code",
      "execution_count": null,
      "metadata": {
        "colab": {
          "base_uri": "https://localhost:8080/"
        },
        "id": "PedkHQo2ZgHe",
        "outputId": "4bfed7d4-871b-491b-ad5c-ff5fb14cc73e"
      },
      "outputs": [
        {
          "name": "stdout",
          "output_type": "stream",
          "text": [
            "5 6 7\n"
          ]
        }
      ],
      "source": [
        "x, y, z = varios_resultados()\n",
        "print(x, y, z)"
      ]
    },
    {
      "cell_type": "code",
      "execution_count": null,
      "metadata": {
        "id": "G1Nfg7ZlZnCk"
      },
      "outputs": [],
      "source": [
        "#Variables locales(pertenecen a la funcion) y globales(pertenecen al programa princiapl)\n",
        "def calculo_xyz(x, y, z=1.5):\n",
        "  if z > 1:\n",
        "    r = z * (x + y)\n",
        "  else:\n",
        "    r = z/ (x + y)\n",
        "  return r\n"
      ]
    },
    {
      "cell_type": "code",
      "execution_count": null,
      "metadata": {
        "colab": {
          "base_uri": "https://localhost:8080/"
        },
        "id": "anjWZb5yjKTv",
        "outputId": "cbbfda39-2b6f-4f4b-e545-9eb73e169217"
      },
      "outputs": [
        {
          "name": "stdout",
          "output_type": "stream",
          "text": [
            "50\n"
          ]
        }
      ],
      "source": [
        "a = 3\n",
        "b = 7\n",
        "c = 5\n",
        "d = calculo_xyz(a,b,c)\n",
        "print(d)"
      ]
    },
    {
      "cell_type": "code",
      "execution_count": null,
      "metadata": {
        "colab": {
          "base_uri": "https://localhost:8080/"
        },
        "id": "1gPmnH94xZTT",
        "outputId": "6f588481-f0af-488a-d598-e0b6b73a6281"
      },
      "outputs": [
        {
          "name": "stdout",
          "output_type": "stream",
          "text": [
            "Hello, Jesse!\n",
            "Hello, Paul!\n"
          ]
        }
      ],
      "source": [
        "def greet_user(username):\n",
        "    \"\"\"Display a simple greeting.\"\"\"\n",
        "    print(f\"Hello, {username.title()}!\")\n",
        "\n",
        "greet_user('jesse')\n",
        "greet_user('paul')"
      ]
    },
    {
      "cell_type": "code",
      "execution_count": null,
      "metadata": {
        "colab": {
          "base_uri": "https://localhost:8080/"
        },
        "id": "vBugrGOJhy7o",
        "outputId": "1afc29a7-b90b-4025-8cd4-065b78a2e24f"
      },
      "outputs": [
        {
          "name": "stdout",
          "output_type": "stream",
          "text": [
            "\n",
            "I have a hamster.\n",
            "My hamster's name is Harry.\n",
            "\n",
            "I have a dog.\n",
            "My dog's name is Willie.\n"
          ]
        }
      ],
      "source": [
        "def describe_pet(animal_type, pet_name):\n",
        "  \"\"\" Display information about a pet.\"\"\"\n",
        "  print(f\"\\nI have a {animal_type}.\")\n",
        "  print(f\"My {animal_type}'s name is {pet_name.title()}.\")\n",
        "\n",
        "describe_pet('hamster', 'harry')\n",
        "describe_pet('dog', 'willie')"
      ]
    },
    {
      "cell_type": "code",
      "execution_count": null,
      "metadata": {
        "colab": {
          "base_uri": "https://localhost:8080/"
        },
        "id": "wSh0TG17xZTZ",
        "outputId": "75bd3fc1-3cc6-4e5a-873a-bae8013c33f0"
      },
      "outputs": [
        {
          "name": "stdout",
          "output_type": "stream",
          "text": [
            "\n",
            "I have a hamster.\n",
            "My hamster's name is Harry.\n",
            "\n",
            "I have a hamster.\n",
            "My hamster's name is Harry.\n"
          ]
        }
      ],
      "source": [
        "describe_pet(animal_type='hamster', pet_name='harry') #Argumento de palabra clave (argumento Keyboard)\n",
        "describe_pet(pet_name='harry', animal_type='hamster')"
      ]
    },
    {
      "cell_type": "code",
      "execution_count": null,
      "metadata": {
        "colab": {
          "base_uri": "https://localhost:8080/"
        },
        "id": "1-REdGgexZTd",
        "outputId": "1438e4d1-bc97-4f4e-e09b-fcc92acd989f"
      },
      "outputs": [
        {
          "name": "stdout",
          "output_type": "stream",
          "text": [
            "\n",
            "I have a dog.\n",
            "My dog's name is Willie.\n",
            "\n",
            "I have a dog.\n",
            "My dog's name is Willie.\n",
            "\n",
            "I have a Cat.\n",
            "My Cat's name is Luna.\n"
          ]
        }
      ],
      "source": [
        "def describe_pet(pet_name, animal_type='dog'):\n",
        "    \"\"\"Display information about a pet.\"\"\"\n",
        "    print(f\"\\nI have a {animal_type}.\")\n",
        "    print(f\"My {animal_type}'s name is {pet_name.title()}.\")\n",
        "\n",
        "describe_pet(pet_name='willie')\n",
        "describe_pet('willie')\n",
        "describe_pet('Luna', 'Cat')\n"
      ]
    },
    {
      "cell_type": "code",
      "execution_count": null,
      "metadata": {
        "colab": {
          "base_uri": "https://localhost:8080/"
        },
        "id": "k4OCtmL5xZTh",
        "outputId": "ff2ee20e-b680-4090-f9b6-4effe697f2ef"
      },
      "outputs": [
        {
          "name": "stdout",
          "output_type": "stream",
          "text": [
            "\n",
            "I have a dog.\n",
            "My dog's name is Willie.\n",
            "\n",
            "I have a dog.\n",
            "My dog's name is Willie.\n",
            "\n",
            "I have a hamster.\n",
            "My hamster's name is Harry.\n",
            "\n",
            "I have a hamster.\n",
            "My hamster's name is Harry.\n",
            "\n",
            "I have a hamster.\n",
            "My hamster's name is Harry.\n"
          ]
        }
      ],
      "source": [
        "# A dog named Willie.\n",
        "describe_pet('willie')\n",
        "describe_pet(pet_name='willie')\n",
        "\n",
        "# A hamster named Harry.\n",
        "describe_pet('harry', 'hamster')\n",
        "describe_pet(pet_name='harry', animal_type='hamster')\n",
        "describe_pet(animal_type='hamster', pet_name='harry')\n"
      ]
    },
    {
      "cell_type": "code",
      "execution_count": null,
      "metadata": {
        "colab": {
          "base_uri": "https://localhost:8080/"
        },
        "id": "CHOi4eWCxZTj",
        "outputId": "3ca64c56-8454-4284-82db-51c6c9fb4269"
      },
      "outputs": [
        {
          "name": "stdout",
          "output_type": "stream",
          "text": [
            "John Lee Hooker\n",
            "Jimi Hendrix\n",
            "John Lee Hooker\n"
          ]
        }
      ],
      "source": [
        "#Argumento opccional\n",
        "def get_formatted_name(first_name, middle_name, last_name):\n",
        "    \"\"\"Return a full name, neatly formatted.\"\"\"\n",
        "    full_name = f\"{first_name} {middle_name} {last_name}\"\n",
        "    return full_name.title()\n",
        "\n",
        "musician = get_formatted_name('john', 'lee', 'hooker')\n",
        "print(musician)\n",
        "\n",
        "def get_formatted_name(first_name, last_name, middle_name=''):\n",
        "    \"\"\"Return a full name, neatly formatted.\"\"\"\n",
        "    if middle_name:\n",
        "        full_name = f\"{first_name} {middle_name} {last_name}\"\n",
        "    else:\n",
        "        full_name = f\"{first_name} {last_name}\"\n",
        "    return full_name.title()\n",
        "\n",
        "musician = get_formatted_name('jimi', 'hendrix')\n",
        "print(musician)\n",
        "\n",
        "musician = get_formatted_name('john', 'hooker', 'lee')\n",
        "print(musician)\n"
      ]
    },
    {
      "cell_type": "code",
      "execution_count": null,
      "metadata": {
        "id": "-0Xf0vmlQKHX"
      },
      "outputs": [],
      "source": [
        "#Funcion para saber si un numero es primo o no.\n",
        "def es_primo(numero):\n",
        "    if numero <= 1:\n",
        "        return False\n",
        "\n",
        "    for i in range(2, numero):\n",
        "        if numero % i == 0:\n",
        "            return False\n",
        "\n",
        "    return True\n"
      ]
    },
    {
      "cell_type": "code",
      "execution_count": null,
      "metadata": {
        "colab": {
          "base_uri": "https://localhost:8080/"
        },
        "id": "aiu1v6p_RMel",
        "outputId": "c8d9f976-46e0-432d-85cf-ddc0a6ceee96"
      },
      "outputs": [
        {
          "name": "stdout",
          "output_type": "stream",
          "text": [
            "17 es primo\n"
          ]
        }
      ],
      "source": [
        "numero = 17\n",
        "if es_primo(numero):\n",
        "    print(numero, \"es primo\")\n",
        "else:\n",
        "    print(numero, \"no es primo\")\n"
      ]
    },
    {
      "cell_type": "code",
      "execution_count": null,
      "metadata": {
        "colab": {
          "base_uri": "https://localhost:8080/"
        },
        "id": "BrSBki1oRhSl",
        "outputId": "f31770b2-40c4-487d-b4c6-cec9300e0d41"
      },
      "outputs": [
        {
          "name": "stdout",
          "output_type": "stream",
          "text": [
            "18 no es primo\n"
          ]
        }
      ],
      "source": [
        "numero = 18\n",
        "if es_primo(numero):\n",
        "    print(numero, \"es primo\")\n",
        "else:\n",
        "    print(numero, \"no es primo\")\n"
      ]
    },
    {
      "cell_type": "code",
      "execution_count": null,
      "metadata": {
        "id": "-H2Fvj2hQ6ic"
      },
      "outputs": [],
      "source": [
        "def contar_digitos(numero):\n",
        "    if numero == 0:\n",
        "        return 1\n",
        "\n",
        "    contador = 0\n",
        "    numero = abs(numero)  # Convertir el número a su valor absoluto para tratar positivos y negativos de la misma manera\n",
        "\n",
        "    while numero > 0:\n",
        "        numero //= 10  # División entera para eliminar el último dígito\n",
        "        contador += 1\n",
        "\n",
        "    return contador\n"
      ]
    },
    {
      "cell_type": "code",
      "execution_count": null,
      "metadata": {
        "colab": {
          "base_uri": "https://localhost:8080/"
        },
        "id": "jTHTU5u_RIHu",
        "outputId": "be6c29dc-1cc1-447e-dad0-993c09a42c0a"
      },
      "outputs": [
        {
          "name": "stdout",
          "output_type": "stream",
          "text": [
            "El número 12345 tiene 5 dígitos\n"
          ]
        }
      ],
      "source": [
        "numero = 12345\n",
        "cantidad = contar_digitos(numero)\n",
        "print(\"El número\", numero, \"tiene\", cantidad, \"dígitos\")\n"
      ]
    },
    {
      "cell_type": "code",
      "execution_count": null,
      "metadata": {
        "id": "jSEOX5lSRXT1"
      },
      "outputs": [],
      "source": [
        "def es_bisiesto(anio):\n",
        "    if anio % 4 == 0 and (anio % 100 != 0 or anio % 400 == 0):\n",
        "        return True\n",
        "    else:\n",
        "        return False\n"
      ]
    },
    {
      "cell_type": "code",
      "execution_count": null,
      "metadata": {
        "colab": {
          "base_uri": "https://localhost:8080/"
        },
        "id": "aNoatb9VRbqm",
        "outputId": "78b580ed-344a-4746-dfdd-168d90a30c02"
      },
      "outputs": [
        {
          "name": "stdout",
          "output_type": "stream",
          "text": [
            "2025 no es un año bisiesto\n"
          ]
        }
      ],
      "source": [
        "anio = 2025\n",
        "if es_bisiesto(anio):\n",
        "    print(anio, \"es un año bisiesto\")\n",
        "else:\n",
        "    print(anio, \"no es un año bisiesto\")\n"
      ]
    },
    {
      "cell_type": "code",
      "execution_count": null,
      "metadata": {
        "colab": {
          "base_uri": "https://localhost:8080/"
        },
        "id": "H38I23wtbl11",
        "outputId": "6cf0f0a4-0eb6-47cd-a079-12c0e017bbfe"
      },
      "outputs": [
        {
          "name": "stdout",
          "output_type": "stream",
          "text": [
            "<class 'int'>\n",
            "<class 'str'>\n",
            "<class 'str'>\n"
          ]
        }
      ],
      "source": [
        "x = 10\n",
        "y = \"Hola\"\n",
        "z = 'A'\n",
        "\n",
        "print(type(x)) # <class 'int'>\n",
        "print(type(y)) # <class 'str'>\n",
        "print(type(z)) # <class 'str'>"
      ]
    },
    {
      "cell_type": "code",
      "execution_count": null,
      "metadata": {
        "id": "VxV5vnWQxPOy"
      },
      "outputs": [],
      "source": [
        "def calculo_a(x, y):\n",
        "  z = x * y\n",
        "  if z > 10:\n",
        "    r = z * (x + y)\n",
        "  else:\n",
        "      r = z + (x + y)\n",
        "      return r"
      ]
    },
    {
      "cell_type": "code",
      "execution_count": null,
      "metadata": {
        "colab": {
          "base_uri": "https://localhost:8080/"
        },
        "id": "9BIKd1M-xlbM",
        "outputId": "dde7ca3a-991c-47df-dded-72b765b6f72b"
      },
      "outputs": [
        {
          "data": {
            "text/plain": [
              "(10, None)"
            ]
          },
          "execution_count": 13,
          "metadata": {},
          "output_type": "execute_result"
        }
      ],
      "source": [
        "r=10\n",
        "s=calculo_a(r,3)\n",
        "r,s"
      ]
    },
    {
      "cell_type": "code",
      "execution_count": null,
      "metadata": {
        "id": "1jHgquCyyrEE"
      },
      "outputs": [],
      "source": [
        "#Verificacion de tipo de datos\n"
      ]
    },
    {
      "cell_type": "code",
      "execution_count": null,
      "metadata": {
        "colab": {
          "base_uri": "https://localhost:8080/"
        },
        "id": "33ILct9MzNcx",
        "outputId": "8c25b325-b579-45e2-be9a-12e77bea74ef"
      },
      "outputs": [
        {
          "name": "stdout",
          "output_type": "stream",
          "text": [
            "<class 'int'>\n",
            "<class 'str'>\n",
            "<class 'str'>\n"
          ]
        }
      ],
      "source": [
        "x = 10\n",
        "y = \"Hola\"\n",
        "z = 'A'\n",
        "\n",
        "print(type(x)) # <class 'int'>\n",
        "print(type(y)) # <class 'str'>\n",
        "print(type(z)) # <class 'str'>"
      ]
    },
    {
      "cell_type": "code",
      "execution_count": null,
      "metadata": {
        "colab": {
          "base_uri": "https://localhost:8080/"
        },
        "id": "kYgzWRLUb1gt",
        "outputId": "8883cf79-fff6-444b-c77a-160768028ecc"
      },
      "outputs": [
        {
          "name": "stdout",
          "output_type": "stream",
          "text": [
            "True\n",
            "False\n",
            "True\n"
          ]
        }
      ],
      "source": [
        "x = 10\n",
        "y = \"Hola\"\n",
        "\n",
        "print(isinstance(x, int)) # True\n",
        "print(isinstance(y, int)) # False\n",
        "print(isinstance(y, str)) # True\n"
      ]
    },
    {
      "cell_type": "code",
      "execution_count": null,
      "metadata": {
        "colab": {
          "base_uri": "https://localhost:8080/"
        },
        "id": "JHlZBFHVcPmc",
        "outputId": "4d4dcd31-0978-443b-93c6-8d405313a645"
      },
      "outputs": [
        {
          "name": "stdout",
          "output_type": "stream",
          "text": [
            "5\n",
            "5\n",
            "Termine bien\n"
          ]
        }
      ],
      "source": [
        "def suma(a, b):\n",
        "    if isinstance(a, int) and isinstance(b, int):\n",
        "      return a + b\n",
        "    else:\n",
        "      raise TypeError(\"a y b deben ser enteros.\")\n",
        "\n",
        "\n",
        "print(suma(2, 3)) # 5\n",
        "print(suma(2, 3)) # TypeError: a y b deben ser enteros.\n",
        "\n",
        "print(\"Termine bien\")"
      ]
    },
    {
      "cell_type": "code",
      "execution_count": null,
      "metadata": {
        "colab": {
          "base_uri": "https://localhost:8080/"
        },
        "id": "lMRRtTNrb715",
        "outputId": "84382ecf-e9bc-448b-a159-f33f0ce40782"
      },
      "outputs": [
        {
          "name": "stdout",
          "output_type": "stream",
          "text": [
            "x está fuera del rango válido\n"
          ]
        }
      ],
      "source": [
        "x = 150\n",
        "\n",
        "if x > 0 and x < 100:\n",
        "    print(\"x está en el rango válido\")\n",
        "else:\n",
        "    print(\"x está fuera del rango válido\")\n"
      ]
    },
    {
      "cell_type": "code",
      "execution_count": null,
      "metadata": {
        "id": "wPrN2EfFcahG"
      },
      "outputs": [],
      "source": [
        "def validar_numero(num):\n",
        "    if not isinstance(num, int): #Verifico si el numero es entero\n",
        "        print(\"Error: el valor ingresado no es un número entero.\")\n",
        "        return False\n",
        "    elif num < 1 or num > 10:\n",
        "        print(\"Error: el número debe estar entre 1 y 10.\")\n",
        "        return False\n",
        "    else:\n",
        "        return True\n"
      ]
    },
    {
      "cell_type": "code",
      "execution_count": null,
      "metadata": {
        "colab": {
          "base_uri": "https://localhost:8080/"
        },
        "id": "U8bc_vadED8p",
        "outputId": "7bb38187-9cd0-480f-ec1c-24499fc7a608"
      },
      "outputs": [
        {
          "name": "stdout",
          "output_type": "stream",
          "text": [
            "Ingrese su edad: 32\n"
          ]
        }
      ],
      "source": [
        "resultado = int(input(\"Ingrese su edad: \"))"
      ]
    },
    {
      "cell_type": "code",
      "execution_count": null,
      "metadata": {
        "colab": {
          "base_uri": "https://localhost:8080/"
        },
        "id": "RPokkCw0cwKu",
        "outputId": "b369b9be-c460-42ce-9d22-8e641696ab5b"
      },
      "outputs": [
        {
          "name": "stdout",
          "output_type": "stream",
          "text": [
            "Error: el valor ingresado no es un número entero.\n"
          ]
        },
        {
          "data": {
            "text/plain": [
              "False"
            ]
          },
          "execution_count": 23,
          "metadata": {},
          "output_type": "execute_result"
        }
      ],
      "source": [
        "validar_numero(\"fs\")"
      ]
    },
    {
      "cell_type": "code",
      "execution_count": null,
      "metadata": {
        "colab": {
          "base_uri": "https://localhost:8080/"
        },
        "id": "gZwF1jbBc8Ef",
        "outputId": "facdfa22-01bb-43a2-f544-1e3a4fecd86f"
      },
      "outputs": [
        {
          "name": "stdout",
          "output_type": "stream",
          "text": [
            "Error: el número debe estar entre 1 y 10.\n"
          ]
        },
        {
          "data": {
            "text/plain": [
              "False"
            ]
          },
          "execution_count": 24,
          "metadata": {},
          "output_type": "execute_result"
        }
      ],
      "source": [
        "validar_numero(81)"
      ]
    },
    {
      "cell_type": "code",
      "execution_count": null,
      "metadata": {
        "colab": {
          "base_uri": "https://localhost:8080/"
        },
        "id": "R1CW9gLgEKOp",
        "outputId": "78e9a617-e3c0-41d0-d9b9-b4c078475b10"
      },
      "outputs": [
        {
          "data": {
            "text/plain": [
              "int"
            ]
          },
          "execution_count": 25,
          "metadata": {},
          "output_type": "execute_result"
        }
      ],
      "source": [
        "type(resultado) #Que tipo de informacion tengo? 'int' entero"
      ]
    },
    {
      "cell_type": "code",
      "execution_count": null,
      "metadata": {
        "id": "STQmShbS16A5"
      },
      "outputs": [],
      "source": []
    },
    {
      "cell_type": "code",
      "execution_count": null,
      "metadata": {
        "colab": {
          "base_uri": "https://localhost:8080/"
        },
        "id": "tI4CkF6pK7g0",
        "outputId": "4a82702d-d447-49f9-d914-67f4616129c5"
      },
      "outputs": [
        {
          "name": "stdout",
          "output_type": "stream",
          "text": [
            "Hola\n",
            "Hola\n",
            "Hola\n"
          ]
        }
      ],
      "source": [
        "for i in range(3): #Repite\n",
        "  print(\"Hola\")"
      ]
    },
    {
      "cell_type": "code",
      "execution_count": null,
      "metadata": {
        "colab": {
          "base_uri": "https://localhost:8080/"
        },
        "id": "Q5Rg0oEkKtel",
        "outputId": "84b9bcde-d982-4e62-a6ad-32074bb54dfd"
      },
      "outputs": [
        {
          "name": "stdout",
          "output_type": "stream",
          "text": [
            "Ingrese un numero32\n",
            "Ingrese otro numero\n",
            "Ingrese un numero32\n",
            "Ingrese otro numero\n",
            "Ingrese un numero1\n",
            "Numero correcto\n"
          ]
        }
      ],
      "source": [
        "while int(input(\"Ingrese un numero\")) > 10:\n",
        "  print(\"Ingrese otro numero\")\n",
        "\n",
        "print(\"Numero correcto\")"
      ]
    },
    {
      "cell_type": "code",
      "execution_count": null,
      "metadata": {
        "id": "A4YcVLx_jKTy"
      },
      "outputs": [],
      "source": [
        "def calculo_xyz(x, y, z=1.5):\n",
        "    try:\n",
        "        r = z * (x / y)\n",
        "        return r\n",
        "    except:\n",
        "        print('Error')"
      ]
    },
    {
      "cell_type": "code",
      "execution_count": null,
      "metadata": {
        "colab": {
          "base_uri": "https://localhost:8080/"
        },
        "id": "RqW6ZBbOjKTy",
        "outputId": "e75435e2-bba3-4513-be42-d11154211c3f"
      },
      "outputs": [
        {
          "name": "stdout",
          "output_type": "stream",
          "text": [
            "Error\n"
          ]
        }
      ],
      "source": [
        "a = calculo_xyz(3,0,10)"
      ]
    },
    {
      "cell_type": "code",
      "execution_count": null,
      "metadata": {
        "colab": {
          "base_uri": "https://localhost:8080/"
        },
        "id": "UsDqA_2YjKTy",
        "outputId": "acce36d1-96c6-46d9-bfc6-c91240a5d875"
      },
      "outputs": [
        {
          "name": "stdout",
          "output_type": "stream",
          "text": [
            "Error\n"
          ]
        }
      ],
      "source": [
        "a = calculo_xyz(3,2,'z')"
      ]
    },
    {
      "cell_type": "code",
      "execution_count": null,
      "metadata": {
        "id": "AzjixfizjKTy"
      },
      "outputs": [],
      "source": [
        "def calculo_xyz(x, y, z=1.5):\n",
        "    try:\n",
        "        r = z * (x / y)\n",
        "        return r\n",
        "    except ZeroDivisionError as pepe:\n",
        "        print('Error division por cero', pepe)\n",
        "    except TypeError as matias:\n",
        "        print('Datos no numericos', matias)"
      ]
    },
    {
      "cell_type": "code",
      "execution_count": null,
      "metadata": {
        "id": "tzewwToBNtuE"
      },
      "outputs": [],
      "source": [
        "def calculo_xyz(x, y, z=1.5):\n",
        "    try:\n",
        "        if x == 5:\n",
        "          raise ValueError(\"X No puede ser un 5\")\n",
        "        if y == 0:\n",
        "          raise ValueError(\"Y No puede ser un 0\")\n",
        "        return y/x + z\n",
        "    except Exception as e:\n",
        "        print('Error', e)"
      ]
    },
    {
      "cell_type": "code",
      "execution_count": null,
      "metadata": {
        "colab": {
          "base_uri": "https://localhost:8080/"
        },
        "id": "xIraXh3qjKTy",
        "outputId": "2fe77074-fde4-4056-b508-a8aeefd19e98"
      },
      "outputs": [
        {
          "name": "stdout",
          "output_type": "stream",
          "text": [
            "Error Y No puede ser un 0\n",
            "Error unsupported operand type(s) for +: 'float' and 'str'\n",
            "Error X No puede ser un 5\n",
            "Error division by zero\n"
          ]
        }
      ],
      "source": [
        "a = calculo_xyz(3,0,10)\n",
        "a = calculo_xyz(3,2,'z')\n",
        "a = calculo_xyz(5,2,1)\n",
        "a = calculo_xyz(0,2,1)"
      ]
    },
    {
      "cell_type": "code",
      "execution_count": null,
      "metadata": {
        "id": "TqhrjH5UjKTz"
      },
      "outputs": [],
      "source": [
        "def calculo_xyz(x, y, z=1.5):\n",
        "    try:\n",
        "        if y == 0:\n",
        "          raise ZeroDivisionError(\"El valor de Y debe ser distinto de 0\")\n",
        "        r = z * (x / y)\n",
        "        print(r)\n",
        "\n",
        "    except ZeroDivisionError as ex:\n",
        "        print('Error division por cero')\n",
        "        print('Mensaje de error original: ',ex)\n",
        "\n",
        "    except TypeError as ex:\n",
        "        print('Datos no numericos')\n",
        "        print('Mensaje de error original: ',ex)\n",
        "\n",
        "    except Exception as ex:\n",
        "        print('Exception padre')\n",
        "        print('Mensaje de error original: ',ex)\n",
        "\n",
        "    else:\n",
        "        print('Caso exitoso')\n",
        "    finally:\n",
        "        print('Siempre sale')"
      ]
    },
    {
      "cell_type": "code",
      "execution_count": null,
      "metadata": {
        "colab": {
          "base_uri": "https://localhost:8080/"
        },
        "id": "80X-tIXYjKTz",
        "outputId": "d86bb335-b653-4cac-e98f-384d7a2b4dad"
      },
      "outputs": [
        {
          "output_type": "stream",
          "name": "stdout",
          "text": [
            "Error division por cero\n",
            "Mensaje de error original:  El valor de Y debe ser distinto de 0\n",
            "Siempre sale\n"
          ]
        }
      ],
      "source": [
        "a = calculo_xyz(3,0,10)"
      ]
    },
    {
      "cell_type": "code",
      "execution_count": null,
      "metadata": {
        "colab": {
          "base_uri": "https://localhost:8080/"
        },
        "id": "KKrfHUtMjKTz",
        "outputId": "35fc645e-106c-4fcf-96cc-51ae3baa5cf4"
      },
      "outputs": [
        {
          "output_type": "stream",
          "name": "stdout",
          "text": [
            "Datos no numericos\n",
            "Mensaje de error original:  can't multiply sequence by non-int of type 'float'\n",
            "Siempre sale\n"
          ]
        }
      ],
      "source": [
        "a = calculo_xyz(3,10,'a')"
      ]
    },
    {
      "cell_type": "code",
      "execution_count": null,
      "metadata": {
        "id": "Z4ulTMXTjKT0"
      },
      "outputs": [],
      "source": [
        "var1 = 10 ; var2 = 12 ; list1 = [1, 2, 3, 4, 5, 6, 7, 8, 9, 10]"
      ]
    },
    {
      "cell_type": "code",
      "execution_count": null,
      "metadata": {
        "colab": {
          "base_uri": "https://localhost:8080/"
        },
        "id": "uxwDoFWijKT0",
        "outputId": "e2715d35-95c3-4e5a-bb46-a2c7a57b2df4"
      },
      "outputs": [
        {
          "output_type": "execute_result",
          "data": {
            "text/plain": [
              "False"
            ]
          },
          "metadata": {},
          "execution_count": 7
        }
      ],
      "source": [
        "var1 == var2"
      ]
    },
    {
      "cell_type": "code",
      "execution_count": null,
      "metadata": {
        "colab": {
          "base_uri": "https://localhost:8080/"
        },
        "id": "uT2-G-d0jKT0",
        "outputId": "18724976-34c8-448c-f352-1143291d5144"
      },
      "outputs": [
        {
          "output_type": "execute_result",
          "data": {
            "text/plain": [
              "True"
            ]
          },
          "metadata": {},
          "execution_count": 8
        }
      ],
      "source": [
        "var1 != var2"
      ]
    },
    {
      "cell_type": "code",
      "execution_count": null,
      "metadata": {
        "colab": {
          "base_uri": "https://localhost:8080/"
        },
        "id": "xz52JquDjKT1",
        "outputId": "f649991a-fd73-4502-cb16-d27e2a957ebd"
      },
      "outputs": [
        {
          "output_type": "execute_result",
          "data": {
            "text/plain": [
              "False"
            ]
          },
          "metadata": {},
          "execution_count": 9
        }
      ],
      "source": [
        "var1 > var2"
      ]
    },
    {
      "cell_type": "code",
      "execution_count": null,
      "metadata": {
        "colab": {
          "base_uri": "https://localhost:8080/"
        },
        "id": "1qYBKSoMjKT1",
        "outputId": "90ca106a-3c0e-470f-9816-dc42888acde5"
      },
      "outputs": [
        {
          "output_type": "execute_result",
          "data": {
            "text/plain": [
              "True"
            ]
          },
          "metadata": {},
          "execution_count": 10
        }
      ],
      "source": [
        "var1 in list1"
      ]
    },
    {
      "cell_type": "code",
      "execution_count": null,
      "metadata": {
        "colab": {
          "base_uri": "https://localhost:8080/"
        },
        "id": "xfjkFEtZjKT1",
        "outputId": "a4a188c7-ebb7-4983-b846-8b8f127b0f41"
      },
      "outputs": [
        {
          "output_type": "execute_result",
          "data": {
            "text/plain": [
              "False"
            ]
          },
          "metadata": {},
          "execution_count": 11
        }
      ],
      "source": [
        "var1 is var2"
      ]
    },
    {
      "cell_type": "code",
      "execution_count": null,
      "metadata": {
        "id": "QyEoeVwWjKT1"
      },
      "outputs": [],
      "source": [
        "var1 = 10 ; var2 = 12 ; list1 = [1, 2, 3, 4, 5, 6, 7, 8, 9, 10]"
      ]
    },
    {
      "cell_type": "code",
      "execution_count": null,
      "metadata": {
        "colab": {
          "base_uri": "https://localhost:8080/"
        },
        "id": "fGPZtJdqjKT2",
        "outputId": "b3f680e0-e12a-44fa-a30c-e117f4d8e0fe"
      },
      "outputs": [
        {
          "output_type": "execute_result",
          "data": {
            "text/plain": [
              "True"
            ]
          },
          "metadata": {},
          "execution_count": 13
        }
      ],
      "source": [
        "var1 != var2 and var1 in list1 #Son var1 y var2 las dos True?"
      ]
    },
    {
      "cell_type": "code",
      "execution_count": null,
      "metadata": {
        "id": "cgiQXEomjKT2"
      },
      "outputs": [],
      "source": [
        "(var1 == var2) or (var1 in list1) #Al menos una de las var es True?"
      ]
    },
    {
      "cell_type": "code",
      "execution_count": null,
      "metadata": {
        "colab": {
          "base_uri": "https://localhost:8080/"
        },
        "id": "MKqWRdvGjKT3",
        "outputId": "29ebdd7a-6a97-4c12-b648-7f5feccec906"
      },
      "outputs": [
        {
          "output_type": "execute_result",
          "data": {
            "text/plain": [
              "True"
            ]
          },
          "metadata": {},
          "execution_count": 15
        }
      ],
      "source": [
        "not (var1 == var2) #Es la condicion (var1 == var2) False? Es Falsa, devuelve True."
      ]
    },
    {
      "cell_type": "code",
      "execution_count": null,
      "metadata": {
        "id": "9MhNgECEjKT3",
        "colab": {
          "base_uri": "https://localhost:8080/"
        },
        "outputId": "7008e2b7-4ef3-4ef7-f5b0-c27e3187c2eb"
      },
      "outputs": [
        {
          "output_type": "execute_result",
          "data": {
            "text/plain": [
              "True"
            ]
          },
          "metadata": {},
          "execution_count": 16
        }
      ],
      "source": [
        "any([var1 == var2,var1 in list1]) #Alguna de las condicoones de la lista es True?"
      ]
    },
    {
      "cell_type": "code",
      "execution_count": null,
      "metadata": {
        "id": "J4fkYmLljKT4",
        "colab": {
          "base_uri": "https://localhost:8080/"
        },
        "outputId": "ccd70479-ff1a-424b-dba0-58e10cfe59b1"
      },
      "outputs": [
        {
          "output_type": "execute_result",
          "data": {
            "text/plain": [
              "False"
            ]
          },
          "metadata": {},
          "execution_count": 17
        }
      ],
      "source": [
        "all([var1 == var2,var1 in list1]) #Todas las condiciones son True?"
      ]
    },
    {
      "cell_type": "code",
      "source": [
        "while True:\n",
        "    try:\n",
        "        num = float(input(\"Ingrese un número: \"))\n",
        "        break\n",
        "    except ValueError:\n",
        "        print(\"Debe ingresar un valor numérico válido. Intente nuevamente.\")\n",
        "\n",
        "print(\"El número ingresado es:\", num)\n"
      ],
      "metadata": {
        "id": "hdWuQRPFdWl3",
        "colab": {
          "base_uri": "https://localhost:8080/"
        },
        "outputId": "273a5e67-f69b-4b48-da0a-60cbe4570745"
      },
      "execution_count": null,
      "outputs": [
        {
          "output_type": "stream",
          "name": "stdout",
          "text": [
            "Ingrese un número: 2\n",
            "El número ingresado es: 2.0\n"
          ]
        }
      ]
    },
    {
      "cell_type": "code",
      "source": [
        "while True:\n",
        "    try:\n",
        "        num = int(input(\"Ingrese un número entre 1 y 10: \"))\n",
        "        if num < 1 or num > 10:\n",
        "            print(\"Debe ingresar un valor dentro del rango especificado. Intente nuevamente.\")\n",
        "        else:\n",
        "            break\n",
        "    except ValueError:\n",
        "        print(\"Debe ingresar un valor numérico válido. Intente nuevamente.\")\n",
        "\n",
        "print(\"El número ingresado es:\", num)\n"
      ],
      "metadata": {
        "id": "qpL85L11dovC",
        "colab": {
          "base_uri": "https://localhost:8080/"
        },
        "outputId": "da79b048-0134-4613-a5bd-ec1a141450b9"
      },
      "execution_count": null,
      "outputs": [
        {
          "output_type": "stream",
          "name": "stdout",
          "text": [
            "Ingrese un número entre 1 y 10: 5\n",
            "El número ingresado es: 5\n"
          ]
        }
      ]
    },
    {
      "cell_type": "code",
      "source": [
        "while True:\n",
        "    try:\n",
        "        edad = int(input(\"Ingrese su edad: \"))\n",
        "        break\n",
        "    except ValueError:\n",
        "        print(\"Debe ingresar un valor numérico válido. Intente nuevamente.\")\n",
        "\n",
        "while True:\n",
        "    nombre = input(\"Ingrese su nombre: \")\n",
        "    if nombre.strip() == \"\":\n",
        "        print(\"Debe ingresar un nombre válido. Intente nuevamente.\")\n",
        "    else:\n",
        "        break\n",
        "\n",
        "print(\"Su nombre es\", nombre, \"y tiene\", edad, \"años.\")\n"
      ],
      "metadata": {
        "id": "LVH1YgVOduqg",
        "colab": {
          "base_uri": "https://localhost:8080/"
        },
        "outputId": "e0d0737d-1353-46f2-a709-b66628c12754"
      },
      "execution_count": null,
      "outputs": [
        {
          "output_type": "stream",
          "name": "stdout",
          "text": [
            "Ingrese su edad: 32\n",
            "Ingrese su nombre: 5\n",
            "Su nombre es 5 y tiene 32 años.\n"
          ]
        }
      ]
    },
    {
      "cell_type": "code",
      "source": [
        "while True:\n",
        "    try:\n",
        "        num1 = int(input(\"Ingrese el primer número: \"))\n",
        "        num2 = int(input(\"Ingrese el segundo número: \"))\n",
        "        if num2 == 0:\n",
        "            raise ZeroDivisionError(\"No se puede dividir por cero.\")\n",
        "        resultado = num1 / num2\n",
        "        break\n",
        "    except ZeroDivisionError as e:\n",
        "        print(e)\n",
        "    except ValueError:\n",
        "        print(\"Debe ingresar dos números enteros.\")\n",
        "\n",
        "print(\"El resultado de la división es: \", resultado)\n"
      ],
      "metadata": {
        "id": "JNNLdPZWeqxb",
        "colab": {
          "base_uri": "https://localhost:8080/"
        },
        "outputId": "b2f6ab34-eca0-4873-e1e3-49d2b0532c68"
      },
      "execution_count": null,
      "outputs": [
        {
          "output_type": "stream",
          "name": "stdout",
          "text": [
            "Ingrese el primer número: 10\n",
            "Ingrese el segundo número: 25\n",
            "El resultado de la división es:  0.4\n"
          ]
        }
      ]
    },
    {
      "cell_type": "code",
      "source": [
        "def ingresar_nombre():\n",
        "  nombre = input(\"Ingrese el nombre del estudiante: \")\n",
        "  if nombre.strip() == \"\" or any(char.isdigit() for char in nombre):\n",
        "    raise ValueError(\"El nombre no es valido...\")\n",
        "  return nombre\n",
        "\n",
        "def ingresar_edad():\n",
        "  try:\n",
        "    edad = int(input(\"Ingrese la edad del estudiante: \"))\n",
        "    if edad < 0:\n",
        "      raise Exception(\"La edad, debe ser positiva...\")\n",
        "  except ValueError as error:\n",
        "    raise ValueError(\"La edad, se ingreso incorrectamente\")\n",
        "  return edad\n",
        "\n",
        "cantidad = int(input(\"Ingrese la cantidad de estudiantes: \"))\n",
        "suma_edad = 0\n",
        "cantidad_total = cantidad\n",
        "while cantidad > 0:\n",
        "  while True:\n",
        "    try:\n",
        "      nombre = ingresar_nombre()\n",
        "      break\n",
        "    except Exception as error:\n",
        "      print(\"Se produjo un error en el nombre del tipo:\",error)\n",
        "  while True:\n",
        "    try:\n",
        "      edad = ingresar_edad()\n",
        "      break\n",
        "    except Exception as error:\n",
        "      print(\"Se produjo un error en la edad del tipo:\",error)\n",
        "  suma_edad += edad #suma_edad = suma_edad + edad\n",
        "  cantidad -= 1\n",
        "\n",
        "print(\"La edad promedio de los estudiantes es:\", suma_edad/cantidad_total)"
      ],
      "metadata": {
        "id": "r2JItFeifIUc",
        "colab": {
          "base_uri": "https://localhost:8080/"
        },
        "outputId": "00069ff9-90e8-4358-8923-272f211b4ac4"
      },
      "execution_count": null,
      "outputs": [
        {
          "output_type": "stream",
          "name": "stdout",
          "text": [
            "Ingrese la cantidad de estudiantes: 2\n",
            "Ingrese el nombre del estudiante: Carla\n",
            "Ingrese la edad del estudiante: 32\n",
            "Ingrese el nombre del estudiante: Esteban\n",
            "Ingrese la edad del estudiante: 34\n",
            "La edad promedio de los estudiantes es: 33.0\n"
          ]
        }
      ]
    },
    {
      "cell_type": "code",
      "source": [
        "cadena1 = 'Hola, mundo!'\n",
        "cadena2 = \"Este es un ejemplo de una cadena de caracteres.\""
      ],
      "metadata": {
        "id": "Ewz_kox_9TdK"
      },
      "execution_count": null,
      "outputs": []
    },
    {
      "cell_type": "code",
      "source": [
        "print(cadena1)\n",
        "print(cadena2)"
      ],
      "metadata": {
        "id": "h8V4syjD9ayG",
        "colab": {
          "base_uri": "https://localhost:8080/"
        },
        "outputId": "717d6c2f-0964-40f9-acee-debb2eb10946"
      },
      "execution_count": null,
      "outputs": [
        {
          "output_type": "stream",
          "name": "stdout",
          "text": [
            "Hola, mundo!\n",
            "Este es un ejemplo de una cadena de caracteres.\n"
          ]
        }
      ]
    },
    {
      "cell_type": "code",
      "source": [
        "lista1 = [1, 2, 3, 4, 5]\n",
        "lista2 = ['perro', 'gato', 'ratón']\n",
        "lista3 = [1, 'hola', True, 3.14]"
      ],
      "metadata": {
        "id": "bqulsbcM9jtH"
      },
      "execution_count": null,
      "outputs": []
    },
    {
      "cell_type": "code",
      "source": [
        "print(lista1)\n",
        "print(lista2)\n",
        "print(lista3)"
      ],
      "metadata": {
        "id": "HkKDEMEa9k_e",
        "colab": {
          "base_uri": "https://localhost:8080/"
        },
        "outputId": "7a605df9-b2ff-4519-c675-c5c37a5d6b9c"
      },
      "execution_count": null,
      "outputs": [
        {
          "output_type": "stream",
          "name": "stdout",
          "text": [
            "[1, 2, 3, 4, 5]\n",
            "['perro', 'gato', 'ratón']\n",
            "[1, 'hola', True, 3.14]\n"
          ]
        }
      ]
    },
    {
      "cell_type": "code",
      "source": [
        "cadena1 = 'Hola, '\n",
        "cadena2 = 'mundo!'\n",
        "concatenada = cadena1 + cadena2\n",
        "print(concatenada)"
      ],
      "metadata": {
        "id": "ZxV3yws6jN_o",
        "outputId": "43004a8e-de57-4323-8bcf-c8d7e2d6880f",
        "colab": {
          "base_uri": "https://localhost:8080/"
        }
      },
      "execution_count": null,
      "outputs": [
        {
          "output_type": "stream",
          "name": "stdout",
          "text": [
            "Hola, mundo!\n"
          ]
        }
      ]
    },
    {
      "cell_type": "code",
      "source": [
        "lista_cadenas = ['hola', 'mundo', '!']\n",
        "separador = ' '\n",
        "concatenada2 = separador.join(lista_cadenas)\n",
        "print(concatenada2)"
      ],
      "metadata": {
        "id": "E80AWYAP96aW",
        "outputId": "3e5571d7-fb92-42ad-972a-f1b720881de5",
        "colab": {
          "base_uri": "https://localhost:8080/"
        }
      },
      "execution_count": null,
      "outputs": [
        {
          "output_type": "stream",
          "name": "stdout",
          "text": [
            "hola mundo !\n"
          ]
        }
      ]
    },
    {
      "cell_type": "code",
      "source": [
        "cadena = 'Este es un ejemplo.'\n",
        "primer_caracter = cadena[0]\n",
        "print(primer_caracter)"
      ],
      "metadata": {
        "id": "soa4V8trj2b_",
        "colab": {
          "base_uri": "https://localhost:8080/"
        },
        "outputId": "b67643d6-3fdf-41f2-b077-afe14a98c974"
      },
      "execution_count": 7,
      "outputs": [
        {
          "output_type": "stream",
          "name": "stdout",
          "text": [
            "E\n"
          ]
        }
      ]
    },
    {
      "cell_type": "code",
      "source": [
        "subcadena = cadena[1:4]\n",
        "print(subcadena)\n"
      ],
      "metadata": {
        "id": "zz3pcFK9-Ffv",
        "colab": {
          "base_uri": "https://localhost:8080/"
        },
        "outputId": "10928355-7df0-44fc-f236-1a6ee0e6ce4a"
      },
      "execution_count": null,
      "outputs": [
        {
          "output_type": "stream",
          "name": "stdout",
          "text": [
            "ste\n"
          ]
        }
      ]
    }
  ],
  "metadata": {
    "colab": {
      "provenance": [],
      "authorship_tag": "ABX9TyP6AEFYUwOAdGsDkCA80Exz",
      "include_colab_link": true
    },
    "kernelspec": {
      "display_name": "Python 3",
      "name": "python3"
    },
    "language_info": {
      "name": "python"
    }
  },
  "nbformat": 4,
  "nbformat_minor": 0
}